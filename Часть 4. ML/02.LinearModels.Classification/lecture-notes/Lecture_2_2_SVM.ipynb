{
  "nbformat": 4,
  "nbformat_minor": 0,
  "metadata": {
    "colab": {
      "provenance": [],
      "authorship_tag": "ABX9TyNJpFSnc32ayOCc5u4NmTqj",
      "include_colab_link": true
    },
    "kernelspec": {
      "name": "python3",
      "display_name": "Python 3"
    },
    "language_info": {
      "name": "python"
    }
  },
  "cells": [
    {
      "cell_type": "markdown",
      "metadata": {
        "id": "view-in-github",
        "colab_type": "text"
      },
      "source": [
        "<a href=\"https://colab.research.google.com/github/CodeHunterOfficial/Data-Mining-2024/blob/master/%D0%A7%D0%B0%D1%81%D1%82%D1%8C%204.%20ML/02.LinearModels.Classification/lecture-notes/Lecture_2_2_SVM.ipynb\" target=\"_parent\"><img src=\"https://colab.research.google.com/assets/colab-badge.svg\" alt=\"Open In Colab\"/></a>"
      ]
    },
    {
      "cell_type": "markdown",
      "source": [
        "Ранее мы изучили общий подход к обучению линейных классификаторов, основанный на минимизации\n",
        "верхней оценки:\n",
        "$$\n",
        "    \\frac{1}{\\ell}\n",
        "    \\sum_{i = 1}^{\\ell}\n",
        "        L(y_i, \\langle w, x_i \\rangle)\n",
        "    \\to\n",
        "    \\min_{w}\n",
        "$$\n",
        "При этом мы привели примеры нескольких верхних оценок~$\\tilde L(M)$,\n",
        "среди которых были\n",
        "\n",
        "* $L(y, z) = \\log(1 + \\exp(-yz))$ -- логистическая функция потерь;\n",
        "\n",
        "* $L(y, z) = (1 - yz)_+$ -- кусочно-линейная функция потерь (hinge loss).\n",
        "\n",
        "В этой лекции мы выясним, откуда взялись эти функции потерь, и изучим некоторые их важные свойства."
      ],
      "metadata": {
        "id": "FOoy1mdStajf"
      }
    },
    {
      "cell_type": "markdown",
      "source": [
        "## Метод опорных векторов\n",
        "\n",
        "Рассмотрим теперь другой подход к построению функции потерь,\n",
        "основанный на максимизации зазора между классами.\n",
        "Будем рассматривать линейные классификаторы вида\n",
        "$$\n",
        " a(x) = sign (\\langle w, x \\rangle + b), \\qquad w \\in R^d, b \\in R.\n",
        "$$\n",
        "\n",
        "\n"
      ],
      "metadata": {
        "id": "HCyp498Dt6Xg"
      }
    },
    {
      "cell_type": "markdown",
      "source": [
        "### Разделимый случай\n",
        "Будем считать, что существуют такие параметры $w_*$ и $b_*$,\n",
        "что соответствующий им классификатор $a(x)$ не допускает ни одной ошибки\n",
        "на обучающей выборке.\n",
        "В этом случае говорят, что выборка **линейно разделима**."
      ],
      "metadata": {
        "id": "FG94sU8juEDe"
      }
    }
  ]
}