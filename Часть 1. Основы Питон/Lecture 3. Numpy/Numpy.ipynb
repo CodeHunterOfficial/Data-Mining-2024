{
  "cells": [
    {
      "cell_type": "code",
      "execution_count": null,
      "metadata": {
        "id": "Qri5nDu-eSXQ"
      },
      "outputs": [],
      "source": [
        "import numpy as np"
      ]
    },
    {
      "cell_type": "markdown",
      "metadata": {
        "id": "w5l3lSPkeSXN"
      },
      "source": [
        "# Библиотека `numpy`\n",
        "\n",
        "![440px-NumPy_logo_2020.svg.png](data:image/png;base64,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)\n",
        "\n",
        "Пакет `numpy` предоставляет $n$-мерные однородные массивы (все элементы одного типа); в них нельзя вставить или удалить элемент в произвольном месте. В `numpy` реализовано много операций над массивами в целом. Если задачу можно решить, произведя некоторую последовательность операций над массивами, то это будет столь же эффективно, как в `C` или `matlab` — львиная доля времени тратится в библиотечных функциях, написанных на `C`."
      ]
    },
    {
      "cell_type": "markdown",
      "metadata": {
        "id": "-deP4EZpo6-R"
      },
      "source": [
        "## 1. Массивы\n"
      ]
    },
    {
      "cell_type": "markdown",
      "metadata": {
        "id": "rfSABySzo6-S"
      },
      "source": [
        "#### 1.1 Типы массивов, атрибуты"
      ]
    },
    {
      "cell_type": "markdown",
      "metadata": {
        "id": "4OYggcLMeSXY"
      },
      "source": [
        "Можно преобразовать список в массив функцией `np.array()`. Все элементы в списке должны быть одного типа."
      ]
    },
    {
      "cell_type": "code",
      "execution_count": null,
      "metadata": {
        "colab": {
          "base_uri": "https://localhost:8080/"
        },
        "id": "60DzfgyMeSXa",
        "outputId": "d67812f0-fa64-4ccf-b0f3-13c7d852c81f"
      },
      "outputs": [
        {
          "data": {
            "text/plain": [
              "(array([0, 2, 1]), numpy.ndarray)"
            ]
          },
          "execution_count": 6,
          "metadata": {},
          "output_type": "execute_result"
        }
      ],
      "source": [
        "a = np.array([0, 2, 1])\n",
        "b = np.array([\n",
        "    [1, 2, 3],\n",
        "    [4, 5, 6],\n",
        "    [7, 8, 9]\n",
        "])\n",
        "a, type(a)"
      ]
    },
    {
      "cell_type": "markdown",
      "metadata": {
        "id": "GWrTlCJieSXk"
      },
      "source": [
        "Тип numpy-массива - `ndarray`, то есть многомерный массив. Узнать его размерность можно через атрибут `a.shape`"
      ]
    },
    {
      "cell_type": "code",
      "execution_count": null,
      "metadata": {
        "colab": {
          "base_uri": "https://localhost:8080/"
        },
        "id": "ivBL1F1PeSXs",
        "outputId": "586db3a2-9e33-437d-a3d6-8cf4d7423ff3"
      },
      "outputs": [
        {
          "name": "stdout",
          "output_type": "stream",
          "text": [
            "(3,)\n",
            "(3, 3)\n"
          ]
        }
      ],
      "source": [
        "print(a.shape)\n",
        "print(b.shape)"
      ]
    },
    {
      "cell_type": "markdown",
      "metadata": {
        "id": "eCtLf6OyeSXx"
      },
      "source": [
        "`numpy` предоставляет несколько типов для целых (`int16`, `int32`, `int64`) и чисел с плавающей точкой (`float32`, `float64`). Тип элементов массива можно получить по атрибуту `.dtype`, а сколько он занимает памяти через `.itemsize`"
      ]
    },
    {
      "cell_type": "code",
      "execution_count": null,
      "metadata": {
        "colab": {
          "base_uri": "https://localhost:8080/"
        },
        "id": "IHuuDB2peSXy",
        "outputId": "9be7ebf8-5266-4888-9403-860b220ae72c"
      },
      "outputs": [
        {
          "data": {
            "text/plain": [
              "(dtype('int32'), 'int32', 4)"
            ]
          },
          "execution_count": 9,
          "metadata": {},
          "output_type": "execute_result"
        }
      ],
      "source": [
        "a.dtype, a.dtype.name, a.itemsize"
      ]
    },
    {
      "cell_type": "markdown",
      "metadata": {
        "id": "T_gqbazheSYC"
      },
      "source": [
        "При создании массива можно указать тип его элементов через аргумент `dtype`. Также можно изменить тип элементов существующего массива методом `astype()`"
      ]
    },
    {
      "cell_type": "code",
      "execution_count": null,
      "metadata": {
        "colab": {
          "base_uri": "https://localhost:8080/"
        },
        "id": "ok8MtEvaeSYC",
        "outputId": "39d9b0e2-5cc9-4d54-b33e-661a43bf7522"
      },
      "outputs": [
        {
          "name": "stdout",
          "output_type": "stream",
          "text": [
            "float64\n",
            "[1 2 3 4]\n",
            "['1.0' '2.0' '3.0' '4.0']\n"
          ]
        }
      ],
      "source": [
        "c = np.array([1, 2, 3, 4], dtype=np.float64)\n",
        "print(c.dtype)\n",
        "print(c.astype(int))\n",
        "print(c.astype(str))"
      ]
    },
    {
      "cell_type": "markdown",
      "metadata": {
        "id": "hC6trZpko6-W"
      },
      "source": [
        "**Вопросы для самоконтроля**:\n",
        "- Какой метод создает `ndarray` на основе списка?\n",
        "- Как узнать размеры `ndarray`, тип хранимых в нем элементов?\n",
        "- Какой метод позволяет поменять тип элементов массива?"
      ]
    },
    {
      "cell_type": "markdown",
      "metadata": {
        "id": "3PqkVuBjo6-W"
      },
      "source": [
        "**Упражнение:** создайте numpy-массив, состоящий из первых пяти простых чисел, выведите его размеры, тип, измените его тип на `float64`.\n",
        "\n",
        "**Решение:**"
      ]
    },
    {
      "cell_type": "markdown",
      "metadata": {
        "id": "ehsq8g63o6-W"
      },
      "source": [
        "#### 1.2 Индексация"
      ]
    },
    {
      "cell_type": "markdown",
      "metadata": {
        "id": "Q67MdfGAo6-X"
      },
      "source": [
        "Индексировать массив можно обычным образом, срезами, массивом индексов и булевым массив."
      ]
    },
    {
      "cell_type": "code",
      "execution_count": null,
      "metadata": {
        "colab": {
          "base_uri": "https://localhost:8080/"
        },
        "id": "Y9tGXwDIeSX1",
        "outputId": "9251016c-eeaa-48a1-f877-f7f13c952da3"
      },
      "outputs": [
        {
          "name": "stdout",
          "output_type": "stream",
          "text": [
            "-2 2\n",
            "[-1  0  1]\n",
            "[-2  0  2]\n",
            "[False False  True  True  True]\n",
            "[0 1 2]\n"
          ]
        }
      ],
      "source": [
        "a = np.array([-2, -1, 0, 1, 2])\n",
        "print(a[0], a[-1]) #обычное индексирование, первый и последний элементы\n",
        "print(a[1: a.shape[0]-1]) #индексирование срезом\n",
        "print(a[ [0, 2, 4] ]) #индексирование списком индексов, вернет жлементы по индексам, указанным в массиве\n",
        "print(a >= 0) #булев массив (подробнее о нем позже)\n",
        "print(a[a>=0]) #вернет те элементы, для которых булево выражение истинно, то есть неотрицательные"
      ]
    },
    {
      "cell_type": "markdown",
      "metadata": {
        "id": "FlwH_DuTo6-X"
      },
      "source": [
        "Можно менять не только отдельные элементы массива, но и срезы целиком."
      ]
    },
    {
      "cell_type": "code",
      "execution_count": null,
      "metadata": {
        "id": "TJ82AsxCo6-Y",
        "outputId": "11e2862d-0f43-40c7-e869-5ed129e28978"
      },
      "outputs": [
        {
          "name": "stdout",
          "output_type": "stream",
          "text": [
            "[ -2 -10 -10 -10   2]\n",
            "[-2  0  0  0  2]\n"
          ]
        }
      ],
      "source": [
        "a = np.array([-2, -1, 0, 1, 2])\n",
        "a[1:-1] = -10\n",
        "print(a)\n",
        "a[a==-10] = 0\n",
        "print(a)"
      ]
    },
    {
      "cell_type": "markdown",
      "metadata": {
        "id": "gUm-4JQGo6-Y"
      },
      "source": [
        "Способы выше работают и для многомерных массивов, только срезы в квадратных скобках нужно делать для каждой размерности через запятую."
      ]
    },
    {
      "cell_type": "code",
      "execution_count": null,
      "metadata": {
        "id": "clD9Ooimo6-Z",
        "outputId": "b25ad587-1cee-434a-9a97-837420409039"
      },
      "outputs": [
        {
          "name": "stdout",
          "output_type": "stream",
          "text": [
            "[1 2 3 4] [13 14 15 16]\n",
            "\n",
            "[[ 6  7]\n",
            " [10 11]]\n",
            "\n",
            "[[ 1  2  3  4]\n",
            " [ 9 10 11 12]]\n"
          ]
        }
      ],
      "source": [
        "a = np.array([\n",
        "    [1, 2, 3, 4],\n",
        "    [5, 6, 7, 8],\n",
        "    [9, 10, 11, 12],\n",
        "    [13, 14, 15, 16]\n",
        "])\n",
        "print(a[0], a[-1])\n",
        "print()\n",
        "print(a[1:-1, 1:-1])\n",
        "print()\n",
        "print(a[[0, 2], :])"
      ]
    },
    {
      "cell_type": "markdown",
      "metadata": {
        "id": "Yd31-o_UeSX6"
      },
      "source": [
        "Массивы, разумеется, можно использовать в `for` циклах. Но при этом теряется главное преимущество `numpy` — быстродействие. Всегда, когда это возможно, лучше использовать операции над массивами как едиными целыми."
      ]
    },
    {
      "cell_type": "code",
      "execution_count": null,
      "metadata": {
        "colab": {
          "base_uri": "https://localhost:8080/"
        },
        "id": "c4K_PK_OeSX7",
        "outputId": "f9203056-39fe-42c1-ffd7-88250a3d44c5"
      },
      "outputs": [
        {
          "name": "stdout",
          "output_type": "stream",
          "text": [
            "[1 2 3 4]\n",
            "[5 6 7 8]\n",
            "[ 9 10 11 12]\n",
            "[13 14 15 16]\n"
          ]
        }
      ],
      "source": [
        "for i in a:\n",
        "    print(i)"
      ]
    },
    {
      "cell_type": "markdown",
      "metadata": {
        "id": "5IoIyopto6-a"
      },
      "source": [
        "**Вопросы для самоконтроля**:\n",
        "- Какими способами можно получить доступ к элементам массива и изменить их значения? (4 способа)\n",
        "- Стоит ли избегать использования массивов с циклом `for`? Почему?"
      ]
    },
    {
      "cell_type": "markdown",
      "metadata": {
        "id": "inZ4MCrjo6-a"
      },
      "source": [
        "**Упражнение:** Дан numpy-массив, в которох хранятся возрасты людей. При его заполнении были допущены ошибки и некоторые числа не имеют смысла, замените их значения нулями.\n",
        "Массив - `a = np.array([0, 1, -2, 3, -4, 5, -6, 7, -8, 9])`.\n",
        "\n",
        "**Решение:**"
      ]
    },
    {
      "cell_type": "markdown",
      "metadata": {
        "id": "zwBg_sXjo6-a"
      },
      "source": [
        "**Упражнение:** Дана матрица в виде массива numpy размера 4 на 4, нужно получить подматрицу, в которую не входят элементы на границе.\n",
        "`a = np.array([\n",
        "    [1, 2, 3, 4],\n",
        "    [5, 6, 7, 8],\n",
        "    [9, 10, 11, 12],\n",
        "    [13, 14, 15, 16]\n",
        "])`\n",
        "\n",
        "**Решение:**"
      ]
    },
    {
      "cell_type": "markdown",
      "metadata": {
        "id": "ViI6VqnXeSYE"
      },
      "source": [
        "#### 1.3 Создание массивов"
      ]
    },
    {
      "cell_type": "markdown",
      "metadata": {
        "id": "k-mMCtOco6-b"
      },
      "source": [
        "Изменить размер массива нельзя, поэтому на практике часто бывает удобно заранее создать массив из нйлей или единиц нужного размера, а потом заполнять его нужными значениями.\n",
        "Для создания массива из нулей - `np.zeros(n)`, из единиц - `np.ones(n)`, `n` - размер."
      ]
    },
    {
      "cell_type": "code",
      "execution_count": null,
      "metadata": {
        "colab": {
          "base_uri": "https://localhost:8080/"
        },
        "id": "V8yK0FLteSYF",
        "outputId": "c153fc22-1135-4374-c173-501ae407737e"
      },
      "outputs": [
        {
          "name": "stdout",
          "output_type": "stream",
          "text": [
            "[0. 0. 0.]\n",
            "[[1 1 1]\n",
            " [1 1 1]\n",
            " [1 1 1]]\n"
          ]
        },
        {
          "data": {
            "text/plain": [
              "array([[0, 0, 0],\n",
              "       [0, 0, 0],\n",
              "       [0, 0, 0]], dtype=int64)"
            ]
          },
          "execution_count": 35,
          "metadata": {},
          "output_type": "execute_result"
        }
      ],
      "source": [
        "a = np.zeros(3)\n",
        "b = np.ones((3, 3), dtype=np.int64)\n",
        "print(a)\n",
        "print(b)\n",
        "c = np.zeros_like(b) # длина и тип c будут такими же как у b\n",
        "c"
      ]
    },
    {
      "cell_type": "markdown",
      "metadata": {
        "id": "-nnOn0gNeSYL"
      },
      "source": [
        "Как известно `range` может принимать только целые аргументы. В numpy есть функция `arange`, которая работает так же, но может принимать и дробные значения(удобно, правда?)\n",
        "Следует избегать ситуаций, когда *(конец-начало)/шаг* — целое число, потому что в этом случае включение последнего элемента зависит от ошибок округления.\n",
        "Последовательность чисел с постоянным шагом можно также создавать функцией `linspace`, начало и конец диапазона включаются, последний аргумент - число точек."
      ]
    },
    {
      "cell_type": "code",
      "execution_count": null,
      "metadata": {
        "colab": {
          "base_uri": "https://localhost:8080/"
        },
        "id": "gqTdkX18eSYL",
        "outputId": "226a40e7-48df-4824-9c6b-46bfc8782e48"
      },
      "outputs": [
        {
          "name": "stdout",
          "output_type": "stream",
          "text": [
            "[0 2 4 6 8]\n",
            "[0. 2. 4. 6. 8.]\n",
            "[0. 2. 4. 6. 8.]\n",
            "[10.  10.5 11.  11.5 12.  12.5 13.  13.5 14.  14.5 15.  15.5 16.  16.5\n",
            " 17.  17.5 18.  18.5 19.  19.5 20. ]\n"
          ]
        }
      ],
      "source": [
        "a = np.arange(0, 9, 2)\n",
        "print(a)\n",
        "b = np.arange(0., 9, 2)\n",
        "print(b)\n",
        "a = np.linspace(0, 8, 5)\n",
        "print(a)\n",
        "arr = np.linspace(10, 20, 21)\n",
        "print(arr)"
      ]
    },
    {
      "cell_type": "markdown",
      "metadata": {
        "id": "LLfyQPuqeSYR"
      },
      "source": [
        "Последовательность чисел с постоянным шагом по логарифмической шкале от $10^0$ до $10^1$, можно создать функцией `logspace`."
      ]
    },
    {
      "cell_type": "code",
      "execution_count": null,
      "metadata": {
        "colab": {
          "base_uri": "https://localhost:8080/"
        },
        "id": "Njm5f_n1eSYR",
        "outputId": "af0ab300-27cf-438f-9957-d87412be3858"
      },
      "outputs": [
        {
          "name": "stdout",
          "output_type": "stream",
          "text": [
            "[ 1.          1.77827941  3.16227766  5.62341325 10.        ]\n"
          ]
        }
      ],
      "source": [
        "b = np.logspace(0, 1, 5)\n",
        "print(b)"
      ]
    },
    {
      "cell_type": "markdown",
      "metadata": {
        "id": "DIjv68E8o6-d"
      },
      "source": [
        "Размер ономерного массива можно поменять методом `reshape()`, это бывает очень удобно на практике"
      ]
    },
    {
      "cell_type": "code",
      "execution_count": null,
      "metadata": {
        "id": "mavHii7So6-d",
        "outputId": "0a2a175a-2179-40a9-f910-3cb3ddca3a9f"
      },
      "outputs": [
        {
          "data": {
            "text/plain": [
              "array([[1., 2., 3.],\n",
              "       [4., 5., 6.],\n",
              "       [7., 8., 9.]])"
            ]
          },
          "execution_count": 58,
          "metadata": {},
          "output_type": "execute_result"
        }
      ],
      "source": [
        "a = np.arange(1, 9.5, 1).reshape((3, 3))\n",
        "a"
      ]
    },
    {
      "cell_type": "markdown",
      "metadata": {
        "id": "vphDan7Bo6-e"
      },
      "source": [
        "**Вопросы для самоконтроля**\n",
        "- Почему в функции `arange` выржение *(конец-начало)/шаг* не должно быть целым числом?"
      ]
    },
    {
      "cell_type": "markdown",
      "metadata": {
        "id": "gho07p4Io6-e"
      },
      "source": [
        "**Упражнения:**\n",
        "- Создайте массив размера (2, 2) из нулей, а потом из единиц.\n",
        "- Создайте одномерный массив размера 4, превратите его в массив рамзера 2x2.\n",
        "- Создайте и выведите последовательность чисел от 10 до 20 с постоянным шагом, длина последовательности - 21.\n",
        "- Создайте и выведите последовательность чисел от $10^2$ до $10^3$ с постоянным по логарифмической шкале шагом, длина последовательности - 10.\n",
        "\n",
        "**Решение:**"
      ]
    },
    {
      "cell_type": "markdown",
      "metadata": {
        "id": "3TniLu7deSYT"
      },
      "source": [
        "## 2. Операции над массивами"
      ]
    },
    {
      "cell_type": "markdown",
      "metadata": {
        "id": "OLUbTceyo6-f"
      },
      "source": [
        "#### 2.1 Математические операции"
      ]
    },
    {
      "cell_type": "markdown",
      "metadata": {
        "id": "9LbzF5tqo6-n"
      },
      "source": [
        "Арифметические операции над массивами проводятся поэлементно. Причем, один из операндов может быть числом."
      ]
    },
    {
      "cell_type": "code",
      "execution_count": null,
      "metadata": {
        "colab": {
          "base_uri": "https://localhost:8080/"
        },
        "id": "YO9T5FQUe0hx",
        "outputId": "2ba2fc4b-9eab-4fc5-dbd9-cb6382c5ff7c"
      },
      "outputs": [
        {
          "name": "stdout",
          "output_type": "stream",
          "text": [
            "[[ 2.  3.  4.]\n",
            " [ 5.  6.  7.]\n",
            " [ 8.  9. 10.]]\n",
            "\n",
            "[[-2. -1.  0.]\n",
            " [ 1.  2.  3.]\n",
            " [ 4.  5.  6.]]\n",
            "\n",
            "[[1. 2. 3.]\n",
            " [4. 5. 6.]\n",
            " [7. 8. 9.]]\n",
            "\n",
            "[[0.5 1.  1.5]\n",
            " [2.  2.5 3. ]\n",
            " [3.5 4.  4.5]]\n"
          ]
        }
      ],
      "source": [
        "a = np.array([\n",
        "    [1, 2, 3],\n",
        "    [4, 5, 6],\n",
        "    [7, 8, 9]\n",
        "])\n",
        "b = np.ones((3, 3))\n",
        "\n",
        "print(a + b)\n",
        "print()\n",
        "print(a - 3*b)\n",
        "print()\n",
        "print(a * b)\n",
        "print()\n",
        "print(a /2)\n"
      ]
    },
    {
      "cell_type": "markdown",
      "metadata": {
        "id": "K8DiU43EeSYc"
      },
      "source": [
        "Когда операнды разных типов, они приводятся к большему типу."
      ]
    },
    {
      "cell_type": "code",
      "execution_count": null,
      "metadata": {
        "colab": {
          "base_uri": "https://localhost:8080/"
        },
        "id": "e3zsPgHweSYc",
        "outputId": "2416a590-8429-4072-f3a6-ea97eaaa6098"
      },
      "outputs": [
        {
          "name": "stdout",
          "output_type": "stream",
          "text": [
            "[[ 2.  3.  4.]\n",
            " [ 5.  6.  7.]\n",
            " [ 8.  9. 10.]]\n"
          ]
        }
      ],
      "source": [
        "i = np.ones((3,3), dtype=np.float64)\n",
        "print(a + i)"
      ]
    },
    {
      "cell_type": "markdown",
      "metadata": {
        "id": "Hy161lcoeSYd"
      },
      "source": [
        "Библиотека `numpy` содержит элементарные функции, которые тоже применяются к массивам поэлементно. Они называются универсальными функциями (`ufunc`)."
      ]
    },
    {
      "cell_type": "code",
      "execution_count": null,
      "metadata": {
        "colab": {
          "base_uri": "https://localhost:8080/"
        },
        "id": "Dkh0NdmyeSYe",
        "outputId": "7207bdc5-4078-4e9c-9bce-67a2ebfa7aa1"
      },
      "outputs": [
        {
          "data": {
            "text/plain": [
              "(<ufunc 'sin'>, numpy.ufunc)"
            ]
          },
          "execution_count": 16,
          "metadata": {},
          "output_type": "execute_result"
        }
      ],
      "source": [
        "np.sin, type(np.sin)"
      ]
    },
    {
      "cell_type": "code",
      "execution_count": null,
      "metadata": {
        "colab": {
          "base_uri": "https://localhost:8080/"
        },
        "id": "H5IHOdzVeSYf",
        "outputId": "b8719386-dced-47ea-b84a-d7c783742df0"
      },
      "outputs": [
        {
          "name": "stdout",
          "output_type": "stream",
          "text": [
            "[[ 0.84147098  0.90929743  0.14112001]\n",
            " [-0.7568025  -0.95892427 -0.2794155 ]\n",
            " [ 0.6569866   0.98935825  0.41211849]]\n",
            "[[2.71828183 2.71828183 2.71828183]\n",
            " [2.71828183 2.71828183 2.71828183]\n",
            " [2.71828183 2.71828183 2.71828183]]\n",
            "[[1. 1. 1.]\n",
            " [1. 1. 1.]\n",
            " [1. 1. 1.]]\n",
            "[[2.71828183 2.71828183 2.71828183]\n",
            " [2.71828183 2.71828183 2.71828183]\n",
            " [2.71828183 2.71828183 2.71828183]]\n",
            "[[0. 0. 0.]\n",
            " [0. 0. 0.]\n",
            " [0. 0. 0.]]\n",
            "2.718281828459045 3.141592653589793\n"
          ]
        }
      ],
      "source": [
        "print(np.sin(a))\n",
        "print(np.exp(b))\n",
        "print(np.sqrt(b))\n",
        "print(np.exp(b))\n",
        "print(np.log(b))\n",
        "print(np.e, np.pi)"
      ]
    },
    {
      "cell_type": "markdown",
      "metadata": {
        "id": "76IhU9CAeSYk"
      },
      "source": [
        "Сравнения дают булевы массивы. Эти массивы ранее использовались нами для сравнения."
      ]
    },
    {
      "cell_type": "code",
      "execution_count": null,
      "metadata": {
        "colab": {
          "base_uri": "https://localhost:8080/"
        },
        "id": "69vVqzSgeSYk",
        "outputId": "3b573a73-d43a-49d5-ec93-d1d16bf5fceb"
      },
      "outputs": [
        {
          "name": "stdout",
          "output_type": "stream",
          "text": [
            "[[False  True  True]\n",
            " [ True  True  True]\n",
            " [ True  True  True]]\n",
            "\n",
            "[[ True False False]\n",
            " [False False False]\n",
            " [False False False]]\n",
            "\n",
            "[[ True  True  True]\n",
            " [ True  True  True]\n",
            " [ True  True  True]]\n",
            "\n",
            "[[ True  True  True]\n",
            " [ True False False]\n",
            " [False False False]]\n"
          ]
        }
      ],
      "source": [
        "print(a > b)\n",
        "print()\n",
        "print(a == b)\n",
        "print()\n",
        "print(b == 1)\n",
        "print()\n",
        "print(a < 5)"
      ]
    },
    {
      "cell_type": "markdown",
      "metadata": {
        "id": "vQ05bHN4eSYo"
      },
      "source": [
        "Вот еще несколько интересных функций:"
      ]
    },
    {
      "cell_type": "code",
      "execution_count": null,
      "metadata": {
        "colab": {
          "base_uri": "https://localhost:8080/"
        },
        "id": "HTMkK7wYeSYo",
        "outputId": "3a0c7bfd-337c-4d11-c64b-738c0afee004"
      },
      "outputs": [
        {
          "name": "stdout",
          "output_type": "stream",
          "text": [
            "True\n",
            "True\n",
            "Сумма:  45\n",
            "Среднее:  5.0\n",
            "Максимум:  9\n",
            "Среднеквадратическое отклонение:  2.581988897471611\n"
          ]
        }
      ],
      "source": [
        "print(np.any(a == 9)) #квантор существования\n",
        "print(np.all(b == 1)) #квантор всеобщности\n",
        "print(\"Сумма: \", a.sum()) #сумма элементов\n",
        "print(\"Среднее: \", a.mean()) #среднее\n",
        "print(\"Максимум: \", a.max()) #максимум\n",
        "print(\"Среднеквадратическое отклонение: \", a.std()) #среднеквадратичное отклонение"
      ]
    },
    {
      "cell_type": "markdown",
      "metadata": {
        "id": "JtiaPtiGeSYu"
      },
      "source": [
        "При выполнении операций над массивами деление на 0 не возбуждает исключения, а даёт значения `np.nan` или `np.inf`. Стоит заметить, что любые операции с `np.nan` вернут `np.nan`."
      ]
    },
    {
      "cell_type": "code",
      "execution_count": null,
      "metadata": {
        "colab": {
          "base_uri": "https://localhost:8080/"
        },
        "id": "uksiTX96eSYu",
        "outputId": "bc24c3c3-1e2e-4080-9886-443e1050ac1f"
      },
      "outputs": [
        {
          "name": "stdout",
          "output_type": "stream",
          "text": [
            "[  0.  nan  inf -inf]\n"
          ]
        },
        {
          "name": "stderr",
          "output_type": "stream",
          "text": [
            "C:\\Users\\KABabadzhanov\\AppData\\Local\\Temp\\ipykernel_27972\\3088186758.py:1: RuntimeWarning: divide by zero encountered in divide\n",
            "  print(np.array([0.0, 0.0, 1.0, -1.0]) / np.array([1.0, 0.0, 0.0, 0.0]))\n",
            "C:\\Users\\KABabadzhanov\\AppData\\Local\\Temp\\ipykernel_27972\\3088186758.py:1: RuntimeWarning: invalid value encountered in divide\n",
            "  print(np.array([0.0, 0.0, 1.0, -1.0]) / np.array([1.0, 0.0, 0.0, 0.0]))\n"
          ]
        }
      ],
      "source": [
        "print(np.array([0.0, 0.0, 1.0, -1.0]) / np.array([1.0, 0.0, 0.0, 0.0]))"
      ]
    },
    {
      "cell_type": "code",
      "execution_count": null,
      "metadata": {
        "colab": {
          "base_uri": "https://localhost:8080/"
        },
        "id": "sXwqQVDHeSYw",
        "outputId": "f5066abe-7676-4104-c599-cd20d670b898"
      },
      "outputs": [
        {
          "data": {
            "text/plain": [
              "(nan, inf, nan, 0.0)"
            ]
          },
          "execution_count": 40,
          "metadata": {},
          "output_type": "execute_result"
        }
      ],
      "source": [
        "np.nan + 1, np.inf + 1, np.inf * 0, 1. / np.inf"
      ]
    },
    {
      "cell_type": "markdown",
      "metadata": {
        "id": "g6EBDaBWeSY0"
      },
      "source": [
        "Иногда бывает нужно использовать частичные (кумулятивные) суммы. В наших курсах такое может пригодится. `axis` - по какой оси будет проводится суммирование"
      ]
    },
    {
      "cell_type": "code",
      "execution_count": null,
      "metadata": {
        "colab": {
          "base_uri": "https://localhost:8080/"
        },
        "id": "JzFVH5DIeSY0",
        "outputId": "dfcab409-1ccf-46b1-f45e-97da0b8ea843"
      },
      "outputs": [
        {
          "name": "stdout",
          "output_type": "stream",
          "text": [
            "[[ 1  3  6]\n",
            " [ 4  9 15]\n",
            " [ 7 15 24]]\n"
          ]
        }
      ],
      "source": [
        "print(a.cumsum(axis=1))"
      ]
    },
    {
      "cell_type": "markdown",
      "metadata": {
        "id": "tHZC-4KZo6-u"
      },
      "source": [
        "Можно получить транспонированную матрицу атрибутом `.T`"
      ]
    },
    {
      "cell_type": "code",
      "execution_count": null,
      "metadata": {
        "id": "i1QN9_7io6-u",
        "outputId": "2115c8a2-032a-4e76-e0dc-24a7f074c243"
      },
      "outputs": [
        {
          "data": {
            "text/plain": [
              "array([[ 1,  5,  9, 13],\n",
              "       [ 2,  6, 10, 14],\n",
              "       [ 3,  7, 11, 15],\n",
              "       [ 4,  8, 12, 16]])"
            ]
          },
          "execution_count": 80,
          "metadata": {},
          "output_type": "execute_result"
        }
      ],
      "source": [
        "a.T"
      ]
    },
    {
      "cell_type": "markdown",
      "metadata": {
        "id": "1sxjEBUqo6-v"
      },
      "source": [
        "Одна из самых полезных операций для двумерных массивов - матричное умножение `np.dot()` или `@`"
      ]
    },
    {
      "cell_type": "code",
      "execution_count": null,
      "metadata": {
        "id": "YsquNoaeo6-v",
        "outputId": "d63d7d70-c45c-4e2d-d241-bf44d6e06d25"
      },
      "outputs": [
        {
          "name": "stdout",
          "output_type": "stream",
          "text": [
            "[[ 6.  6.  6.]\n",
            " [15. 15. 15.]\n",
            " [24. 24. 24.]]\n"
          ]
        },
        {
          "data": {
            "text/plain": [
              "array([[ 6.,  6.,  6.],\n",
              "       [15., 15., 15.],\n",
              "       [24., 24., 24.]])"
            ]
          },
          "execution_count": 54,
          "metadata": {},
          "output_type": "execute_result"
        }
      ],
      "source": [
        "print(np.dot(a, b))\n",
        "a@b"
      ]
    },
    {
      "cell_type": "markdown",
      "metadata": {
        "id": "pCEg2lIBo6-w"
      },
      "source": [
        "**Вопросы для самоконтроля**:\n",
        "- Можно ли сложить числовые массивы типа `int16` и `float64`?\n",
        "- Как транспонировать матрицу?\n",
        "- Одинаково ли работают операции `*` и `@` для матриц, если нет, то в чем их различие?\n",
        "- В чем отличие универсальных функции (`np.sin()`, `np.exp()` и т.д.) от аналогичных из модуля `math`\n",
        "- Какие методы используются для нахождения максимума, минимума, среднего массива?\n",
        "- Что получается при умножении(сложении) числа с `np.nan`?\n",
        "- Чему равно `1.0 / 0.0` с точки зрения numpy?"
      ]
    },
    {
      "cell_type": "markdown",
      "metadata": {
        "id": "8l8o8TwRo6-w"
      },
      "source": [
        "**Упражнение:** создайте матрицы $\\begin{pmatrix} -3 & 4 \\\\ 4 & 3 \\end{pmatrix}$ и $\\begin{pmatrix} 2 & 1 \\\\ 1 & 2 \\end{pmatrix}$. Посчитайте их поэлементное и матричное произведения.\n",
        "\n",
        "**Решение:**"
      ]
    },
    {
      "cell_type": "markdown",
      "metadata": {
        "id": "iYut5IW1o6-x"
      },
      "source": [
        "**Упражнения:**\n",
        "Пусть `a = np.array([[1, 2, 3], [4, 5, 6], [7, 8, 9]])`, `b = np.array([[1, 1], [0, 0], [1, 1]]), c = np.array([-2, -1, 0, 1, 2])`,\n",
        "- Какой массив вернет выражение c > 0?\n",
        "- Перемножьте матрицу a на b.\n",
        "- Вычислите c + 2, b - 1, a*a\n",
        "\n",
        "**Решения:**"
      ]
    },
    {
      "cell_type": "markdown",
      "metadata": {
        "id": "WOmkvGvko6-x"
      },
      "source": [
        "**Упражнения**\n",
        "\n",
        "Пусть X = $\\begin{pmatrix} 1 & 2 & 3 \\\\ 4 & 5 & 6 \\\\ 7 & 8 & 9 \\end{pmatrix}$, $Y = (1, 2, 3)$, Y_pred = $(2, 3, 4)$\n",
        "\n",
        "- При знакомстве с линейной регрессией мы выяснили, что если известны матрица `X` и вектор весов нашей линейной функции `w`, то предсказания нашей модели вычисляются по очень простой формуле(она будет на доске, я не умею в латех )0). Обозначая вектор предсказаний модели как `Yp`, вычислите его, используя numpy.\n",
        "\n",
        "- При знакомстве с линейной регрессией нам приходилось вычислять MSE(формула наверно будет на доске, т.к. я не умею в латех).\n",
        "Пусть даны векторы `Y`, `Yp` в виде `ndarray` размера n, где `Y` - истинные значения целевой переменной, а `Yp` - предсказанные. Вычислите, используя numpy, MSE.\n",
        "\n",
        "- Используя формулу для градиента MSE, вычислите её, используя numpy.\n",
        "\n",
        "**Решения**"
      ]
    },
    {
      "cell_type": "markdown",
      "metadata": {
        "id": "dyaDa9YXeSY1"
      },
      "source": [
        "#### 2.2 Сортировка, изменение массивов\n",
        "\n",
        "Функция `sort` возвращает отсортированную копию, метод `sort` сортирует на месте."
      ]
    },
    {
      "cell_type": "code",
      "execution_count": null,
      "metadata": {
        "colab": {
          "base_uri": "https://localhost:8080/"
        },
        "id": "i7Lw_nane0h6",
        "outputId": "942c058f-84df-4143-9594-4b4b873077bf"
      },
      "outputs": [
        {
          "name": "stdout",
          "output_type": "stream",
          "text": [
            "[1.18551961 1.26491106 1.6066895  2.         2.22222222]\n",
            "[2.         1.18551961 1.26491106 1.6066895  2.22222222]\n"
          ]
        }
      ],
      "source": [
        "a = np.array([1., 3., 5., 7., 9., 10.])\n",
        "b = np.array([2.        , 1.18551961, 1.26491106, 1.6066895 , 2.22222222])\n",
        "print(np.sort(b))\n",
        "print(b)"
      ]
    },
    {
      "cell_type": "markdown",
      "metadata": {
        "id": "ZPjBXM_OeSY4"
      },
      "source": [
        "Массивы можно объединить методом `np.hstack()`, расщепить по индексам методом `np.hsplit()`"
      ]
    },
    {
      "cell_type": "code",
      "execution_count": null,
      "metadata": {
        "colab": {
          "base_uri": "https://localhost:8080/"
        },
        "id": "plNqd9H6e0h7",
        "outputId": "fc67e668-25ef-4bea-96a5-dc152ebf7476"
      },
      "outputs": [
        {
          "name": "stdout",
          "output_type": "stream",
          "text": [
            "[1.         3.         5.         7.         9.         2.\n",
            " 1.18551961 1.26491106 1.6066895  2.22222222 2.         1.18551961\n",
            " 1.26491106 1.6066895  2.22222222]\n"
          ]
        },
        {
          "data": {
            "text/plain": [
              "[array([1., 3., 5.]),\n",
              " array([7., 9., 2.]),\n",
              " array([1.18551961, 1.26491106, 1.6066895 , 2.22222222, 2.        ,\n",
              "        1.18551961, 1.26491106, 1.6066895 , 2.22222222])]"
            ]
          },
          "execution_count": 10,
          "metadata": {},
          "output_type": "execute_result"
        }
      ],
      "source": [
        "a = np.hstack((a, b))\n",
        "print(a)\n",
        "np.hsplit(a, [3, 6])"
      ]
    },
    {
      "cell_type": "markdown",
      "metadata": {
        "id": "eOZAGZV0eSY7"
      },
      "source": [
        "Функции `delete`, `insert` и `append` не меняют массив на месте, а возвращают новый массив, в котором удалены, вставлены в середину или добавлены в конец какие-то элементы."
      ]
    },
    {
      "cell_type": "code",
      "execution_count": null,
      "metadata": {
        "colab": {
          "base_uri": "https://localhost:8080/"
        },
        "id": "G4iDI8hjeSY8",
        "outputId": "a6a67121-a714-4ad4-c92d-35b174f945ac"
      },
      "outputs": [
        {
          "name": "stdout",
          "output_type": "stream",
          "text": [
            "[1.         3.         0.         0.         5.         9.\n",
            " 1.6066895  2.22222222 2.         1.18551961 1.26491106 1.6066895\n",
            " 2.22222222 1.         2.         3.        ]\n",
            "[1.         3.         0.         0.         0.         0.\n",
            " 5.         9.         1.6066895  2.22222222 2.         1.18551961\n",
            " 1.26491106 1.6066895  2.22222222 1.         2.         3.        ]\n",
            "[1.         3.         0.         0.         0.         0.\n",
            " 5.         9.         1.6066895  2.22222222 2.         1.18551961\n",
            " 1.26491106 1.6066895  2.22222222 1.         2.         3.\n",
            " 1.         2.         3.        ]\n"
          ]
        }
      ],
      "source": [
        "a = np.delete(a, [5, 7])\n",
        "print(a)\n",
        "a = np.insert(a, 2, [0, 0])\n",
        "print(a)\n",
        "a = np.append(a, [1, 2, 3])\n",
        "print(a)"
      ]
    },
    {
      "cell_type": "markdown",
      "metadata": {
        "id": "wDMNO_l_o6-y"
      },
      "source": [
        "**Вопросы для самоконтроля**\n",
        "- Какие методы объединяют и расщепляют массивы?\n",
        "- Изменяют ли методы `delete`, `insert`, `append` массивы на месте?\n",
        "- Какую структуру возвращает метод объединения и какого типа у неё элементы?"
      ]
    },
    {
      "cell_type": "markdown",
      "metadata": {
        "id": "HesCvUkKe0iB"
      },
      "source": [
        "**Упражнение:**  \n",
        "1). Создайте массив чисел от $-2\\pi$  до $2\\pi$ размера 20.\n",
        "\n",
        "2). Посчитайте сумму поэлементных квадратов синуса и косинуса для данного массива.\n",
        "\n",
        "3). Проверьте, что в ответе только единицы.\n",
        "\n",
        "**Решение:**"
      ]
    },
    {
      "cell_type": "code",
      "execution_count": null,
      "metadata": {
        "colab": {
          "base_uri": "https://localhost:8080/"
        },
        "id": "P9X8TP-ze0iB",
        "outputId": "16f49869-e858-4355-fa7f-7da36e9d52af"
      },
      "outputs": [
        {
          "data": {
            "text/plain": [
              "True"
            ]
          },
          "execution_count": 12,
          "metadata": {},
          "output_type": "execute_result"
        }
      ],
      "source": [
        "x = np.linspace(-2 * np.pi, 2 * np.pi, 20)\n",
        "np.all((np.sin(x)**2 + np.cos(x)**2).round() == 1)"
      ]
    },
    {
      "cell_type": "markdown",
      "metadata": {
        "id": "1UvBCjmro6-z"
      },
      "source": [
        "Можно растягивать матрицы в массивы и наоборот"
      ]
    },
    {
      "cell_type": "code",
      "execution_count": null,
      "metadata": {
        "id": "aL1GNi-8o6-z",
        "outputId": "967cd6b8-7bbf-4925-df05-6fb8f38f56ba"
      },
      "outputs": [
        {
          "name": "stdout",
          "output_type": "stream",
          "text": [
            "[[ 1.  3.  5.]\n",
            " [ 7.  9. 10.]]\n",
            "[ 1.  3.  5.  7.  9. 10.]\n"
          ]
        }
      ],
      "source": [
        "a = np.array([1., 3., 5., 7., 9., 10.])\n",
        "a.shape = (2, 3)\n",
        "print(a)\n",
        "print(a.ravel())"
      ]
    },
    {
      "cell_type": "markdown",
      "metadata": {
        "id": "KwK4g9gZeSaA"
      },
      "source": [
        "Единичная матрица."
      ]
    },
    {
      "cell_type": "code",
      "execution_count": null,
      "metadata": {
        "colab": {
          "base_uri": "https://localhost:8080/"
        },
        "id": "ST8KOHBWeSaB",
        "outputId": "8d31c952-a08b-40f9-b04b-b749b1ccb3d1"
      },
      "outputs": [
        {
          "name": "stdout",
          "output_type": "stream",
          "text": [
            "[[1. 0. 0. 0.]\n",
            " [0. 1. 0. 0.]\n",
            " [0. 0. 1. 0.]\n",
            " [0. 0. 0. 1.]]\n"
          ]
        }
      ],
      "source": [
        "I = np.eye(4)\n",
        "print(I)"
      ]
    },
    {
      "cell_type": "markdown",
      "metadata": {
        "id": "wDDkZc3WeSaJ"
      },
      "source": [
        "Можно построить двумерный массив из функции."
      ]
    },
    {
      "cell_type": "code",
      "execution_count": null,
      "metadata": {
        "colab": {
          "base_uri": "https://localhost:8080/"
        },
        "id": "KXCnqDLKeSaK",
        "outputId": "25a6b5dd-ed62-498d-a67b-09d2c4a34e21"
      },
      "outputs": [
        {
          "name": "stdout",
          "output_type": "stream",
          "text": [
            "[[0 0 0 0]\n",
            " [1 1 1 1]\n",
            " [2 2 2 2]\n",
            " [3 3 3 3]]\n",
            "[[0 1 2 3]\n",
            " [0 1 2 3]\n",
            " [0 1 2 3]\n",
            " [0 1 2 3]]\n",
            "[[ 0  1  2  3]\n",
            " [10 11 12 13]\n",
            " [20 21 22 23]\n",
            " [30 31 32 33]]\n"
          ]
        }
      ],
      "source": [
        "def f(i, j):\n",
        "    print(i)\n",
        "    print(j)\n",
        "    return 10 * i + j\n",
        "\n",
        "print(np.fromfunction(f, (4, 4), dtype=np.int64))"
      ]
    },
    {
      "cell_type": "markdown",
      "metadata": {
        "id": "06Yl0YSTo6-0"
      },
      "source": [
        "**Упражнение:**  \n",
        "- Постройте единичную матрицу размера (4, 4), используя функцию `np.fromfunction`\n",
        "\n",
        "**Решение:**"
      ]
    },
    {
      "cell_type": "markdown",
      "metadata": {
        "id": "yGeRknu3eSaM"
      },
      "source": [
        "Соединение матриц по горизонтали и по вертикали."
      ]
    },
    {
      "cell_type": "code",
      "execution_count": null,
      "metadata": {
        "colab": {
          "base_uri": "https://localhost:8080/"
        },
        "id": "ObH0A6B3eSaM",
        "outputId": "64e093bf-8da3-4c2c-819f-10b4227caf39"
      },
      "outputs": [
        {
          "name": "stdout",
          "output_type": "stream",
          "text": [
            "[[0 1]\n",
            " [2 3]]\n",
            "[[4 5 6]\n",
            " [7 8 9]]\n",
            "[[4 5]\n",
            " [6 7]\n",
            " [8 9]]\n"
          ]
        }
      ],
      "source": [
        "a = np.array([[0, 1], [2, 3]])\n",
        "b = np.array([[4, 5, 6], [7, 8, 9]])\n",
        "c = np.array([[4, 5], [6, 7], [8, 9]])\n",
        "print(a)\n",
        "print(b)\n",
        "print(c)"
      ]
    },
    {
      "cell_type": "code",
      "execution_count": null,
      "metadata": {
        "colab": {
          "base_uri": "https://localhost:8080/"
        },
        "id": "0cpapPNveSaN",
        "outputId": "c1438798-7f39-4b85-c06a-1ba673e4aa8c"
      },
      "outputs": [
        {
          "name": "stdout",
          "output_type": "stream",
          "text": [
            "[[0 1 4 5 6]\n",
            " [2 3 7 8 9]]\n"
          ]
        }
      ],
      "source": [
        "print(np.hstack((a, b)))"
      ]
    },
    {
      "cell_type": "code",
      "execution_count": null,
      "metadata": {
        "colab": {
          "base_uri": "https://localhost:8080/"
        },
        "id": "EPxXHWTAeSaO",
        "outputId": "5913d8bc-92e1-4f4c-a093-88b06a0b7e36"
      },
      "outputs": [
        {
          "name": "stdout",
          "output_type": "stream",
          "text": [
            "[[0 1]\n",
            " [2 3]\n",
            " [4 5]\n",
            " [6 7]\n",
            " [8 9]]\n"
          ]
        }
      ],
      "source": [
        "print(np.vstack((a, c)))"
      ]
    },
    {
      "cell_type": "markdown",
      "metadata": {
        "id": "aXyYf11Eo6-1"
      },
      "source": [
        "**Вопросы для самоконтроля**\n",
        "- Какая функция объединяет матрицы по горизонтали?\n",
        "- какая функция объединяет матрицы по вертикали?"
      ]
    },
    {
      "cell_type": "markdown",
      "metadata": {
        "id": "-FWPCnqzQppZ"
      },
      "source": [
        "## 3. Broadcasting"
      ]
    },
    {
      "cell_type": "markdown",
      "metadata": {
        "id": "uPjV3yjKQppZ"
      },
      "source": [
        "Выше при арифметических операциях с массивами, например, при сложении и умножении, мы перемножали массивы одинаковой формы. В самом простом случае операндами были одномерные массивы одинаковой длины."
      ]
    },
    {
      "cell_type": "code",
      "execution_count": null,
      "metadata": {
        "colab": {
          "base_uri": "https://localhost:8080/"
        },
        "id": "vjFxZY6JQppa",
        "outputId": "ace21081-8132-4348-d239-481dd0138cf3"
      },
      "outputs": [
        {
          "name": "stdout",
          "output_type": "stream",
          "text": [
            "[2 4 6]\n"
          ]
        }
      ],
      "source": [
        "# Самый простой случай\n",
        "a = np.array([1, 2, 3])\n",
        "b = np.array([2, 2, 2])\n",
        "print(a * b)"
      ]
    },
    {
      "cell_type": "markdown",
      "metadata": {
        "id": "CFUBi7CDQppa"
      },
      "source": [
        "Произошло поэлементное умножение, все элементы массива $a$ умножились на $2$. Но мы знаем, что это можно сделать проще, просто умножив массив на $2$."
      ]
    },
    {
      "cell_type": "code",
      "execution_count": null,
      "metadata": {
        "colab": {
          "base_uri": "https://localhost:8080/"
        },
        "id": "eSGmLzA5Qppa",
        "outputId": "efbee6ec-4cbe-4990-a676-638dc754bd8b"
      },
      "outputs": [
        {
          "name": "stdout",
          "output_type": "stream",
          "text": [
            "[2 4 6]\n"
          ]
        }
      ],
      "source": [
        "# Умножение массива на число\n",
        "print(a * 2)"
      ]
    },
    {
      "cell_type": "markdown",
      "metadata": {
        "id": "u7_r9j_9Qppb"
      },
      "source": [
        "На самом деле поведение будет аналогичным, если умножить одномерный массив на массив длины $1$."
      ]
    },
    {
      "cell_type": "code",
      "execution_count": null,
      "metadata": {
        "colab": {
          "base_uri": "https://localhost:8080/"
        },
        "id": "yg6006goQppb",
        "outputId": "c6bd4f17-4b6b-4c03-bd6a-c9e947e03ec0"
      },
      "outputs": [
        {
          "name": "stdout",
          "output_type": "stream",
          "text": [
            "[2 4 6]\n"
          ]
        }
      ],
      "source": [
        "# Умножение массивов разных длин\n",
        "print(a * [2])"
      ]
    },
    {
      "cell_type": "markdown",
      "metadata": {
        "id": "FoaMvoBmQppc"
      },
      "source": [
        "В этом случае работает так называемый *broadcasting*. Один массив \"растягивается\", чтобы повторить форму другого.\n",
        "\n",
        "![theory.broadcast_1.gif](data:image/gif;base64,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)"
      ]
    },
    {
      "cell_type": "markdown",
      "metadata": {
        "id": "vzmLw9c3Qppc"
      },
      "source": [
        "Такой же эффект работает и для многомерных массивов. Если по какому-то измерению размер у одного массива равен $1$, а у другого — произвольный, то по этому измерению может произойти \"рястяжение\". Таким образом, массивы можно умножать друг на друга, если в измерениях, где они по размеру не совпадают, хотя бы у одного размер $1$. Для других поэлементных операций правило аналогично.\n",
        "\n",
        "Важно отметить, что размерности сопоставляются справа налево. Если их количество не совпадает, что массивы меньшей размерности сначала дополняются слева размерностями 1. Например, при сложении массива размера $4 \\times 3$ с массивом размера $3$ последний сначала преобразуется в массив размера $1 \\times 3$."
      ]
    },
    {
      "cell_type": "code",
      "execution_count": null,
      "metadata": {
        "colab": {
          "base_uri": "https://localhost:8080/"
        },
        "id": "MPaw_M3iQppc",
        "outputId": "2b0d412d-ecc7-441d-a9f6-147c354cf72c"
      },
      "outputs": [
        {
          "name": "stdout",
          "output_type": "stream",
          "text": [
            "[[ 0  1  2]\n",
            " [10 11 12]\n",
            " [20 21 22]\n",
            " [30 31 32]]\n"
          ]
        }
      ],
      "source": [
        "a = np.array([[ 0,  0,  0],\n",
        "              [10, 10, 10],\n",
        "              [20, 20, 20],\n",
        "              [30, 30, 30]])\n",
        "\n",
        "b = np.array([0, 1, 2])\n",
        "\n",
        "print(a + b)"
      ]
    },
    {
      "cell_type": "markdown",
      "metadata": {
        "id": "NVxT_nHjQppd"
      },
      "source": [
        "Схематично проведенную операцию можно визуализировать следующим образом.\n",
        "\n",
        "![theory.broadcast_2.gif](data:image/gif;base64,R0lGODlhwQHBAHcAMSH+GlNvZnR3YXJlOiBNaWNyb3NvZnQgT2ZmaWNlACH5BAEAAAAALAIAFgC+AaEAhgAAAAAAAAQAAAQHDA0HBAACBgsLDAsGAg0JBgIAAA0LCAAAAgcJDAAECAkEAAQAAgcGBAAABAkLDAIGCgQGBgQABAICBgcGAg0JCAQEBgIABAQHCAIAAgQHCgcCAg0LCgcCAAsLCAkJBgIECAICAAcCBAcGCgkEBAcGCAsGBgcEBgkHBA0JCgIGCAQCBgsGBAQGCgQECAkEAgcJCgsJBgcJCAAAKwAAVQArgABVqisAACsrACuA1FUAAFWq/4ArAIDU/6pVAKr//9SAK8DAwNXAwMDAy8vAwMDA1cvLwMDV6sDL4NT//9Xq/8vg9P+qVf/UgOrVwODLwP//qv//1P/q1fTgy///9PT/////6uD0///04Or//////wECAwECAwECAwECAwECAwECAwECAwECAwECAwECAwECAwECAwECAwECAwECAwECAwECAwECAwECAwECAwECAwECAwECAwECAwECAwECAwECAwECAwECAwECAwECAwECAwECAwECAwf/gACCg4SFhoeIiYqLjI2Oj5CRkpOUlZaXmJmam4gKAgMABKCcpKWmp6ipqqusra6sngOxr7S1tre0s7i7vLyxuocEBQaEB8OPCAkBCwyCBA29AA4B1KOOwsSCxtmOycvNz9HihsDXw97MztDj7JYKDxABERKh1AETg572oLqznhTKAhwrpKACvUHJ1jWatQ0AAgvcbjlYdyDdQoMIEyhc+AnAtocR2/nq+KigBIbHQIpcCcnTwIrNkuHzhC8Us34df5E05KCmoIIXrDHCkIEYAg303jXDpVRQMqGKeuarEBQSUaNIm7IcuUEANZ+JpF51iBSA1q1oOwmoSXMQgXkI/zgszUfS36dyCMsOctDBw1wAH0CAImDR0IF1gaHiIlCt0dGD0vr+TWzzb6HDgAWnZeoVlExFjy8j1ry5NN1RTzMOCFzYbN2cd3cW2/jMZCFhIR5Y1hZAIeVdB6hFEJFA8SHM6mwTwq0bUfDRxk2r8qTwwLxEyHn7Ji19sy7G9vYJmtYYJ7/Yin87hIhghKEPHkiAJUhSva3UDosz+g2y/fv489EHin3drQJMXLsJQqAuBBa4ki4ILuLATa+dJ4tsPzUHmF8eBejRQM6tc5Ytbx3EWHSENAVfMwd42JAimI3oYCoH6neIjB6JqOGMLOHkISFPtZWfhXiZpaE39mxUz/91yw0kFVmQ3aefPj+m2ByS1CjJGJNNZiNVaDxOt1OENzaHzXg1gRmmSMDANB4z+JUY2DCBBUDkWuRglKKep7UoYChMngkcNcxMmOCeUSrXZ4CzlBgKiGuaIqRHXBKEUaOBQhqpOOWAJ89BSFqkTwBdWSiNQBHJqBJd0KjplDKFOYAiWiOu+pMAreoFJKxLybopKp6k81knR/K616y/Jrsfh6XY2t2KzUKkbCmedNVYItAi4uy03DbiaynfzhjuJuN2W0u5hKBr7rqGhEOKn2G6uwm87NYi72VV1qvvvvz26++/AAcs8MAEF2zwwQgnrPDCDDfs8MMQRyzxxBRXbPH/xRhnrPHGHHfs8ccgh7xVeCSXbPLJKKes8soslyzyy4K0LPPMNNessiMBdKHzzjz37PPPOucM9NBEdyF00UjvTA3MIh+ddNJOP1101FIPvTQjVFcNdNZa98x110Eb7aDNZJdttskDfw220Wtb3fbWYi+i9tpzd1131UIHUODdUvPd99s+Xw2w308TDjXggQctN+KJM66042ErLp3hU0MeueM56z245WxbTnnlkiPyOeiQjw630pN7zrnpP+e9ueqwl86z5oewfrrsuKNemu1erx477fzy3nvsmHst+urCz0586Gglf3nxuccdvO/LI0418IM4/zz00TPPkvbad869//fshm8+9cYXcj764+v+vfPUeA5+4NNXD/j69BOCf/fWbz2y/W/bn/vKxz7GCXB2+iugARU4QHbMD4Bt4xr2unXA+zHQfRW0IASl58ANgi2DHKTgBSM4QsmBkIQenGAvHsg/DfpvXSf8YAkVF0MZejCEK7yh1mKowl/VcIczDNrZhkhEskGtgy0MYBB7GKkiOvGJKSvcD4GoQybWAopYzOIRRahDvAVRiF+kYhLTFw0Wtq9/SLNimKb4ty7Gr4terOI4zLhAOXJxjHQL4xvxmEc7lhGOhfuiGnnExkC6sZCG5CP5cEFHNCoShz4MYxsfaTREHs6POaTkJM/YOnNZkv90nGzdJ0FZx6nNEZCXfOQgZzRKtx0SaU+whw/SCEtZphJosaTGLGmZxlNqMpGhJOO06pbLAOySaHwLQgB4wEuiDcEeOWjm1OZWTF2S0mfVNKY0sUmyY7rSlOKgpi2vCTRlMpOcPHsmNaK5zRdyS5zh8WbrkpbLcyKzaMoMDzu/OU2iUeEHy+zCM3HAhHsO7Z8BHWhBDfozhDJToegUJi/Ulk15Nq5o9Wwnz/IJTY3m753+BOhDA0BQhg6No/bkp8+m0ANtxtIGQDApMtUGBR3AtAs1vYEQZNqzmt40pzvl6c58GlOgRhSB4TyoSAVK0oXe7qT2SOlTe8ZSlwbgpkL//egwiUZUnOpAp1nVGUJtsIOAHjWWYK2qRZUHNZp+dacsxepUe/rWLsQ1pmE16l2P2sBdfK2rRlVpz8ZaVqnOE5cBSGtL18pWcIJ0aHrtgVwPC7R/8sChHv1ZVwW7NYomFq6LDWsX0ApabYaVtHYNrWj7ykjI1nWvnN2ZZTHL16HaFK+xlWiyPKtY0861oUutrVgBus/fipJoqFWraJOr2twy17fG1W1rEdtbxm6vssFd7XADUNzoIvWx1C2tdcUXUrNqtwsIBet5K8nV10oWt5TVrHsnG1+6Kpa+F0WmL3/23PHejbbaTW9Qz2vFVa7ErfeFb36Vat7cyhag6l3v/x7l+9O6OhiwFs4thiPsXSHu12eRxW9jy2vYBftMwLe0miIMLBK3VpjDJgZugzuM4szObsInXipEHYzZHee2x03la+Y+TNcXD7i+2J0xknlWYxsHjQgrJiSJmVpSBz9YyTHe6GeBCTccczOefK2ojcV8VNclNckjrXKHt1vi4ZVzy1xOHJQTweJ2wHOcVmazjWtaMv+Czstfhu6aiznexyEXz2E9Wp1V4VkwnxfAGtZBn8usszmLTsoYRfSa0ZtdB6uzm6JVdCvzLEY3Q/IWdy40eRnc5hH37NOOzu3RLF07TP8yxY7ML6CVKMk4r3rRqWikC0PpNFobAthnvrWT7f821V2jEJXtvB6Rh11KTkbN2OqzdTD72MLrjXrTcXT1qW0hbF7zj2rY1p+2q83uXF+XvdBedqlXvUhUx3u9m7xuurO3bnf7m9oS/PaSzU3vepP73qQO97v3HbN+U/vfBP+as7mtbNJJfNoEb/ewucZwACD7jwgH9yTVNnEbhvywJMf4s7dt8q91/OOZrDi+DTm3kjO714erucoprnFeq+3lDs84xElYN5vPu+cRLPrOTc5yZs8N6KzEubzxdrcsWh2LWwR5049+v7pBnRB1ytcKr072s0lR6lPPtzvHXva20yxpXx/EB0pwkGmI/eAnz/LKZ4p24SpcxeIgguUEP3j/zhG+aHH/iQnGM4wTREnrW//70L0mcL3zfO28ODzjNL95w8M9yoX4AAooRY8UPD7mkVf7wzvb95njupOBL7zsIcd5oCXeGd8AjApCgnqkX371x8275ZkO+GjU/m3HR77nkXb726DKzq0Xua+DL3PXyxvmpUj+2rS//eUjHvRji/7A9261ypva96y9Bfe7tn72e59otx/VPQBgeugLX9zAD9zXzMkzQnuX/zvjf+MHgDojgMNncLWwflVABAzYBMz3NFFABE7wgERjBQxIBEoAd59HZ++xe66RJfb3MwQ4WppmaCKoZCOIfzozgp/WXSbYT/xFDfZEZufXfzIYgKCW/2UZVYA5WIOwZ3xEs4AXSAQOCH9JI4QTiHhEE4FDmIFKyHzgtxwbkQIr0BoThVjmRYMquIM4iGUFR4LmxVHrNH6Ud4I3yGkJFWQ+2AUopWc+9oI704ZomGZOBYeYtwvadwVSIIFdYIFLgAVGWDRMyIdP+DNZUARE2AULaARaUIjwF4XdkTVyCGRqZodsGFVadoYxJofK9VIK9oX6N1gARVZmtWFHdl2EVYq35VUwtmqpeE6meIDjloBDswVHwIhdYItIwAWBCDR6SARGkASE2Is+s4C72AWHmIjEODTxJwAgwgK8d4VMNoqFpTOxeH6vuF2k2GZRk40kWF2yCG8Pdv9ZwRVin0g1s1WO83WOokiOqphgsoh9pKB9usiLh4iLzEg0eugEv5iEy1iLt9iI//gzzVcP1NACHohE40hb5rhg6WhWD8mN7QhptoVffLNrtNVfepeRW6Zca8iR4LiG0qV+Q2OM9oiIRWh7SdOPFFg0v+iEA+kzBekMA2AdpyeNOWZWGvmRnTaHxkWRaOiCoFiGMnZOO6mCPvmN4pVlILmUIvldvaB9JomMKBmTPcOSjuiLe3iMWWl7kMgTSpJsoqiTHdlclpiUVyaRRTmWrTiUN4Zm1riOG6mO8MiT7whaFpl1UQmQx3iPAqmSSIOVVqkzv8iVXUmQX9kuYdl7aRn/l3WpghQJlO+GlmjYlm6pNFzDkKsYWEipmUbGlOr4mU/pYbEHNLaIi/U4mDsjmPk4NIXJixoIhRyoCIFRKZA3jaoompDZk5L5hQDWZPGIkcFFiXU4mUlJnKAJkTqmhkgZNvLICXm4hxPoh4DYmi4pnS35MxFomNlpe82HDofCmHrmk284mZHZk2cJYMpkmcb5OMKZhT3Ymdmlhek5n/F5lpHznJvAfUJ4gSkJmNc5jNbpM7Y4hA14mDwjeM0oCygAAospnmhJn+bJm+g5oao4aaOZN5nZaQYokpDWobvZYCCKn4o2Dgron92plQIKoD5jgQaqjAMqk5X2lQrgAgYg/3qhcHdXBJddKGj1OWO9uaFmBWslSHKYKX5kSHwvqJ+a0H5V46RP+n49c3jN53gA8ALNUH8KmXrTR35Lan7NqaS/ZqKz5zhQKjXJp3nfCQPrYQBaunRiKnTAFzVGJ3mTp6TShgnBoSmRcKaxSXtSWmlTmphXCg7Pt6Xod3PdFor3F6aKaof6uafR+Ah+mqKAU6kpWnszeQqeEh7IUjtIOpqP+m51qnr5x3NZE6mHSgmYqpruV6ZdwIAySaio0KniEQlg2p7EF3ChKqqlJkGWYKvUwKeN0KoxijjGOqCyOquzmSJe8RX0d5N+1av4SXESl6u6qqgXVwnCuqqQkKwEGf+ol7ozy8qslxZ6HjgqDyoJ3fqpx0at2SpGJIetl0lFKaen3ioJ4CqjsIqslaZ9zXcvVGiFk9CukoCt61Nz9Ho+OoevxEqp/TquhVeuiNmsy3GrLQav9epFRbewyNNLDjupjrCvUyquyEexFXuuiDIe6zqtjRqvVNdWbjezM6OXmfeiOJuzOruzPNuzPvuzsqmy+RADy6GjtECzSLsyZ/eyMGuqI2kLPxu1Uju1VLuzGyi0gyADf/GmYpmoXCen1MelXfp7WpV5Eat8ZzuoFjsVkMG1t3mnowq3YMS0G+u0UGm2gJq23Re0tQYaCfCw01V90vd6Yeu1X+ulZYuHegv/NiRbsnx7bEGHuJJLtowquIN7fWSat5prplfbt84KuG97qnE6uW9Jtz/EpJnQuORqsm3jpAWJJD6Bo6ELtqQbt6xnuoKUuZy7uK/6fWtbCFgaHMswAwmJk2KbdmNbuq/WUT3KWFzTgjZoTUsGvc27aaiLCSd6oAjqMxHoj8faMy6KgX/6iL8LdiBQE7UprUf7M9TLg9IbY+0bh16YNfEbv446t5nIvBJacGLIXe5bgvTWv+y0v1Wnuz/Tn9r7vcXIgN7LotxroDCpwGqLta7BJNkxbQL8v+8rbhnchWqZv2N4ifqUpEfKM514VUCAnDV4wjClwq7Gwim8nJUYr9d7/wnRyYfU6aqD2MDhCjTJ6ICL+JcO7JW/+wEqQAOwUgN80rUw7MJwCMMriIn1BcNQ7KviyIPVdY3i1l9aDIdcvJkZVq3pB7UAiZpHwJ38qqLBuKI9fMBE0JdV6aqxqj4nAyTukRlG+wpR88W66cVlaUzeuGD9dZRiXMJAQ1QNOZqILJdPuciPWcizSAv0eMYniY9DzDP7yJqX/DOnKcRtTL76gzaR2F4wlcjNSVQR6V2bVZHs2FYMFk2E3J4IBct/bFFfM8tKmVo+WsCl6cZwDKOf7JrYub2YvIcRvMkTnD2inDpJRsshKZ/+25jjh8u4KZQXKaRgFcugiGLajM071f/NNqu4QDOVPyzHmhzMP/OalmquoUwye5Nk2VzLyclhQQrPRwackHzFV6Zepvyj/MzI+Fdj/UzDBtwzqemX5jzMqqnO65zMyhwe4ZeT//zI74bP9SzR9wxhp5jPXtZkXVzRGs3KrLjR6BjScdnH2So4e2maAZmLlJzQbJzG6byVsNnQCVo77vzObDlgH01v+EyZ4gacPw3J9uAz65nRaTjD/AtnbsicdnjUuEmHwzdkvewzLJnDElzMMe24QLOdNW3T/yo6EK3TWkbPMlycAczUUT1XUF3WG+2omRM1fAZqBAxikkbX97k9cw1mde1KNWwJ/Gmg/4nOM73VCQqQLzr/2DIdrvs21mQdl5PW17aFoUANh3stS5e9wbqqocuLoSN6XUQqvZ+9aqFtWqMtcWNMi0GIosS8mgotweE7hIrN1T3McPYQdelkMrt02p3dgxe9M6XtA8FteaKmsXU7fU7z15WguoLKu1oDsORKZyrNzJYbjk6b3B5rP3Ra0BK7uZ33ybat3KyAsBdEp9l9bomLC8wdq6y7t7Q9x+W7OxpbQd5m3AeUp0Do3f7ar5pKq2lB3tWTqufdPqnK3Wir3939r+ysLADePbyKu8QDrFW93wh+4LF6fB23RvPNPtdq3+izrfm9uxXeuuSapp604b/DdxCOO/ca4t894nuLsjd9/0fH63dtpLAerjoN6+IULuKcK+MzDl41bn2V07E5XjpKN+EJ/uJmCuRBvlVMaz5Vl7RUjjLhrN5Vm+VavuU5+7i7VeVgXtSuvOJbJ96TwOVonuZU27kMjuKUVKrJO7qUe7fi7ONMfudELOSGa7dyrrxDTuQEZuAk7txR6uWRFOV6NOBea+b6Suho2t7RTeN7HueHS5TVbd2Uzuh96uhPs97sbeib0uCRB+eES7tzntqSzOnji+cpC+WXfr92WrhyW+l9joCpDuOMC+kzKumzzue2K+siDF28bYbCDsBLvcHD7lgrXZKsLcdd0L1gHb7HjMxP3uZGjWjJnr8WlYKWyP9R3mS/HE01/bvbeX3s4yTZ8uto6F58y+7Gst3aOoOENj2IDDjti53nrp7u517u4h6fXFiD4x7FIxyOOKZcyhRNTnxdBu+/Cb9qC4/wZx2Pgt4FV00Ef6jDF8jD974z5RzE8A7fev7w5OnU2yPyAj+/VBVaB6/Ls+SJBK82K9/TcxPzYNyKMO+/Mn/lJMnSZozG732Ve7jGGv/zO0POcZzVka7nPUPzKD2UKx/IT7ny4Dzmdh1kAw2KfFZSV881WV9QW6/zZMzScGzJhO3a/Pja1M4znfzxGR50XT/SqZWX8hVkqTxwb19krZxGXC9pNzX1c9/38ryGfAb4z0zUE2//9MC88VaN9mUP9OLL9if+9zHl93SFwmtt93yvYNRsxRNHWpQfgzr1+T3j+YF/v5r+rcz+y7O9uoHJ+Iqv1T7/+tW+W4cW+qVfrag1npaX+5X51tdMNHf19cD/XsIPNMEP0Iav5Dtz0EVA9rLv2obN+sL8xl+N9Luu9CZM/MjfnrBV2dz/Xttlmb9vgwmW86NflqVc8yR9/uWv/gd4+qjP842YmtZP8a5P9NAf+40/+4eOg+3f9IAQ0DU4+BRwI9Q11WMDREj1E8BDSNklSGmIqMjoCHmYWEl4GVoZADA6CKUj2TX06TnpisMUipq6GvsamTtbW6nK6ooI2xrQW0pK/2kKwNzs/AwdLT0dTZTcdSVF5NRlRbSEdd1lLT6YvV0+Lh5FhMSVTkguTkRdb3+Pn/9sC5w7vFvsmLJfuIppGkSMFL+CwhIF+STOlkJmEl0FuMiqiyGMAXwoJGUR4ySNHDt+rBTy4siNGD36urZMn8yZAOSRqkIkZ84m5WxeO8et57UtR3Tq5DmvJ82lTJlWLLmypEtkKKFSSviSUkpWwKRmTRZTYrGLU0mSBZssZFmWZQeGUoupJVqwTetS8xkK5850eEkB5XvNm9G9Sa/Rs4s4MTSxcAmxnVv17FWAJyObHOuVKt1mYuHB9AzaUmh4nWMqTtx3NKXUquO1Lkzq8P/p2XY7vxZ9u3JutxOd2X79G/jur6JoK2bdGnny4ZVSyzYOfWZw1dNHVw9dejFz3ttxd5doOjpT5aPJl+8+qO9z8eztXQf93nN80r33off+/T749k3Ng/b/3314rcdfgdqhN186CZazXzQLRnQffszZEp6B+QAID4YZCtichR4emB+C+pUyzYOfjShicR/KpKFQ6LXoYnorzngKiiHeaAk1JkKG44Qq0ogPjIZx+GI8QK64o24+ppijjjb2ONwlFR45jZDJWHklkQRS2V6SxEWJ4pT2MQnlboKIySU0WIayJpscbpmmeF5qtt2cA6Hp25N16odnnM20uRqR3eXkp4UwdoqiZ5R9clZSo44+Cmmkkk5KaaSF2jNYpppuymmnnn4KKqeXGlhpqaaeiqqk+QQCADs=)\n",
        "\n",
        "\n",
        "Если неединичные размерности справа не будут совпадать, то выполнить операцию уже не получится. Например, как приведено на схеме ниже.\n",
        "\n",
        "![theory.broadcast_3.gif](data:image/gif;base64,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)\n"
      ]
    },
    {
      "cell_type": "markdown",
      "metadata": {
        "id": "H_FZ39gJQppd"
      },
      "source": [
        "**Упражнение:**\n",
        "\n",
        "Подумайте, массив какого размера получится, если перемножить массив $4 \\times 1 \\times 3$ и массив $12 \\times 1$. Убедитесь на практике в правильности вашего ответа."
      ]
    },
    {
      "cell_type": "code",
      "execution_count": null,
      "metadata": {
        "colab": {
          "base_uri": "https://localhost:8080/"
        },
        "id": "4oVm6BevQppd",
        "outputId": "96379ebe-5510-4b58-fdaf-5fc0d4afb45a"
      },
      "outputs": [
        {
          "name": "stdout",
          "output_type": "stream",
          "text": [
            "(4, 12, 3)\n"
          ]
        }
      ],
      "source": [
        "# решение\n",
        "a = np.ones((4, 1, 3))\n",
        "b = np.ones((12, 1))\n",
        "\n",
        "mul_shape = (a * b).shape\n",
        "print(mul_shape)"
      ]
    },
    {
      "cell_type": "markdown",
      "metadata": {
        "id": "fQu4JWrkeSaV"
      },
      "source": [
        "## 4. Линейная алгебра"
      ]
    },
    {
      "cell_type": "markdown",
      "metadata": {
        "id": "z8ft-3Bio6-4"
      },
      "source": [
        "Все методы линейной алгебры в numpy начинаются с `numpy.linalg`."
      ]
    },
    {
      "cell_type": "code",
      "execution_count": null,
      "metadata": {
        "id": "KJ9qk8KBe0iO"
      },
      "outputs": [],
      "source": [
        "a = np.array([[0, 1], [2, 3]])"
      ]
    },
    {
      "cell_type": "code",
      "execution_count": null,
      "metadata": {
        "colab": {
          "base_uri": "https://localhost:8080/"
        },
        "id": "QfoGKtHdeSaV",
        "outputId": "34c3e346-e206-42d8-d63e-a8df8ed5e244"
      },
      "outputs": [
        {
          "name": "stdout",
          "output_type": "stream",
          "text": [
            "-2.0\n",
            "[[-1.5  0.5]\n",
            " [ 1.   0. ]]\n",
            "[[1. 0.]\n",
            " [0. 1.]]\n",
            "[[1. 0.]\n",
            " [0. 1.]]\n"
          ]
        }
      ],
      "source": [
        "det = np.linalg.det(a)    #определитель\n",
        "print(det)\n",
        "a1 = np.linalg.inv(a) #обратная матрица\n",
        "print(a1)\n",
        "print(a @ a1)\n",
        "print(a1 @ a)"
      ]
    },
    {
      "cell_type": "markdown",
      "metadata": {
        "id": "hjrrv-DqeSaY"
      },
      "source": [
        "Решение линейной системы $ax=b$."
      ]
    },
    {
      "cell_type": "code",
      "execution_count": null,
      "metadata": {
        "colab": {
          "base_uri": "https://localhost:8080/"
        },
        "id": "gXVo3PmCeSaZ",
        "outputId": "671b4b71-31ba-4cc4-bb11-c331f4bcfd8d"
      },
      "outputs": [
        {
          "name": "stdout",
          "output_type": "stream",
          "text": [
            "[1. 1.]\n"
          ]
        },
        {
          "data": {
            "text/plain": [
              "array([1., 1.])"
            ]
          },
          "execution_count": 30,
          "metadata": {},
          "output_type": "execute_result"
        }
      ],
      "source": [
        "b = np.array([1, 5])\n",
        "x = np.linalg.solve(a, b)\n",
        "print(x)\n",
        "a1@b #проверка"
      ]
    },
    {
      "cell_type": "markdown",
      "metadata": {
        "id": "nr9z4BbGeSac"
      },
      "source": [
        "Собственные значения и собственные векторы: $a u_i = \\lambda_i u_i$. `l` — одномерный массив собственных значений $\\lambda_i$, столбцы матрицы $u$ — собственные векторы $u_i$."
      ]
    },
    {
      "cell_type": "code",
      "execution_count": null,
      "metadata": {
        "colab": {
          "base_uri": "https://localhost:8080/"
        },
        "id": "0W3HKMpreSac",
        "outputId": "e187541e-0e99-4f23-ac7b-18bb5c9185ac"
      },
      "outputs": [
        {
          "name": "stdout",
          "output_type": "stream",
          "text": [
            "[-0.56155281  3.56155281]\n",
            "[[-0.87192821 -0.27032301]\n",
            " [ 0.48963374 -0.96276969]]\n"
          ]
        }
      ],
      "source": [
        "l, u = np.linalg.eig(a)\n",
        "print(l)\n",
        "print(u)"
      ]
    },
    {
      "cell_type": "markdown",
      "metadata": {
        "id": "0CmNOLM4o6-6"
      },
      "source": [
        "**Вопросы для самоконтроля**\n",
        "- Какие методы позволяют вычислить опредлитель матрицы, обратную матрицу?\n",
        "- Какой метод решает систему Ax=b?\n",
        "- Какой метод возвращает кортеж из собственных значений и матрицы собственных векторов?"
      ]
    },
    {
      "cell_type": "markdown",
      "metadata": {
        "id": "UPo6GT9Ne0iU"
      },
      "source": [
        "**Упражнение:**\n",
        "\n",
        "в машинном обучении есть модель линейной регрессии, для которой \"хорошее\" решение считается по следующей формуле: $\\widehat{\\theta} = (X^T \\cdot X + \\lambda \\cdot I_n)^{-1}\\cdot X^T y$. Вычислите $\\widehat{\\theta}$ для $ X = \\begin{pmatrix} -3 & 4 & 1 \\\\ 4 & 3 & 1  \\end{pmatrix}$, $y = \\begin{pmatrix} 10 \\\\ 12  \\end{pmatrix}$, $I_n$ — единичная матрица размерности 3, $\\lambda = 0.1$.\n",
        "\n",
        "**Решение:**"
      ]
    },
    {
      "cell_type": "code",
      "execution_count": null,
      "metadata": {
        "id": "WTHCzulBi1Jk"
      },
      "outputs": [],
      "source": [
        "X = np.array([[-3, 4, 1], [4, 3, 1]])\n",
        "y = np.array([10, 12])\n",
        "I = np.eye(3)\n",
        "lambd = 0.1\n",
        "theta = np.linalg.inv(X.T @ X + lambd * I) @ X.T @ y"
      ]
    },
    {
      "cell_type": "markdown",
      "metadata": {
        "id": "sWPEBlaKQppe"
      },
      "source": [
        "*Замечание*\n",
        "\n",
        "Знать про broadcasting нужно, но пользоваться им надо с осторожностью. Многократное копирование массива при растяжении может привести к неэффективной работе программы по памяти. Особенно за этим приходится следить при работе с GPU."
      ]
    },
    {
      "cell_type": "markdown",
      "metadata": {
        "id": "Y4voLe-LeSau"
      },
      "source": [
        "## 5. Производительность numpy\n",
        "\n",
        "Посмотрим на простой пример — сумма первых $10^8$ чисел."
      ]
    },
    {
      "cell_type": "markdown",
      "source": [
        "1) Создать массив из 10 случайных целых чисел от 1 до 100."
      ],
      "metadata": {
        "id": "-bHLiyRkqjt9"
      }
    },
    {
      "cell_type": "code",
      "source": [],
      "metadata": {
        "id": "luvpZC7tql7l"
      },
      "execution_count": null,
      "outputs": []
    },
    {
      "cell_type": "markdown",
      "source": [
        "2) Создать двумерный массив размером 3x3, заполненный нулями."
      ],
      "metadata": {
        "id": "3Ego-PLPqqke"
      }
    },
    {
      "cell_type": "code",
      "source": [],
      "metadata": {
        "id": "pcnuzzvfqrIg"
      },
      "execution_count": null,
      "outputs": []
    },
    {
      "cell_type": "markdown",
      "source": [],
      "metadata": {
        "id": "SveWWQkOq6M_"
      }
    },
    {
      "cell_type": "code",
      "execution_count": null,
      "metadata": {
        "colab": {
          "base_uri": "https://localhost:8080/"
        },
        "id": "nvCQ_4WReSav",
        "outputId": "7a346ff9-570e-4edf-cb2f-416a6d77c822"
      },
      "outputs": [
        {
          "name": "stdout",
          "output_type": "stream",
          "text": [
            "4999999950000000\n",
            "CPU times: user 11.5 s, sys: 10.3 ms, total: 11.5 s\n",
            "Wall time: 11.6 s\n"
          ]
        }
      ],
      "source": [
        "%%time\n",
        "\n",
        "sum_value = 0\n",
        "for i in range(10 ** 8):\n",
        "    sum_value += i\n",
        "print(sum_value)"
      ]
    },
    {
      "cell_type": "markdown",
      "metadata": {
        "id": "v4SQIcy8eSaw"
      },
      "source": [
        "Немного улучшеный код"
      ]
    },
    {
      "cell_type": "code",
      "execution_count": null,
      "metadata": {
        "colab": {
          "base_uri": "https://localhost:8080/"
        },
        "id": "ewr9BFMpeSaw",
        "outputId": "9d95e4f0-3b2f-4fc0-d128-0b1d941d9601"
      },
      "outputs": [
        {
          "name": "stdout",
          "output_type": "stream",
          "text": [
            "4999999950000000\n",
            "CPU times: user 1.66 s, sys: 4.14 ms, total: 1.67 s\n",
            "Wall time: 1.67 s\n"
          ]
        }
      ],
      "source": [
        "%%time\n",
        "\n",
        "sum_value = sum(range(10 ** 8))\n",
        "print(sum_value)"
      ]
    },
    {
      "cell_type": "markdown",
      "metadata": {
        "id": "pUjiYs86eSax"
      },
      "source": [
        "Код с использованием функций библиотеки `numpy`"
      ]
    },
    {
      "cell_type": "code",
      "execution_count": null,
      "metadata": {
        "colab": {
          "base_uri": "https://localhost:8080/"
        },
        "id": "Jv6RFksoeSax",
        "outputId": "b4bd7af6-5da9-49d8-ea76-471c4190cb1e"
      },
      "outputs": [
        {
          "name": "stdout",
          "output_type": "stream",
          "text": [
            "4999999950000000\n",
            "CPU times: user 170 ms, sys: 221 ms, total: 391 ms\n",
            "Wall time: 395 ms\n"
          ]
        }
      ],
      "source": [
        "%%time\n",
        "\n",
        "sum_value = np.arange(10 ** 8).sum()\n",
        "print(sum_value)"
      ]
    },
    {
      "cell_type": "markdown",
      "metadata": {
        "id": "ya-V2P3veSay"
      },
      "source": [
        "Простой и понятный код работает в $30$ раз быстрее!\n",
        "\n",
        "Посмотрим на другой пример. Сгенерируем матрицу размера $500\\times1000$, и вычислим средний минимум по колонкам.\n",
        "\n",
        "Простой код, но при этом даже использующий некоторые питон-функции\n",
        "\n",
        "*Замечание*. Далее с помощью `scipy.stats` происходит генерация случайных чисел из равномерного распределения на отрезке $[0, 1]$. Этот модуль будем изучать в следующем ноутбуке."
      ]
    },
    {
      "cell_type": "code",
      "execution_count": null,
      "metadata": {
        "id": "Ulfmy68keSaz"
      },
      "outputs": [],
      "source": [
        "import scipy.stats as sps"
      ]
    },
    {
      "cell_type": "code",
      "execution_count": null,
      "metadata": {
        "colab": {
          "base_uri": "https://localhost:8080/"
        },
        "id": "bp_qnnwPeSaz",
        "outputId": "c8e6d324-5d1a-4b25-aefc-6270056ae3c5"
      },
      "outputs": [
        {
          "name": "stdout",
          "output_type": "stream",
          "text": [
            "0.003964031389280003\n",
            "CPU times: user 17.7 s, sys: 26.9 ms, total: 17.7 s\n",
            "Wall time: 17.7 s\n"
          ]
        }
      ],
      "source": [
        "%%time\n",
        "\n",
        "N, M = 500, 1000\n",
        "matrix = []\n",
        "for i in range(N):\n",
        "    matrix.append([sps.uniform.rvs() for j in range(M)])\n",
        "\n",
        "min_col = [min([matrix[i][j] for i in range(N)]) for j in range(M)]\n",
        "mean_min = sum(min_col) / N\n",
        "print(mean_min)"
      ]
    },
    {
      "cell_type": "markdown",
      "metadata": {
        "id": "c47oHwHzeSa0"
      },
      "source": [
        "Понятный код с использованием функций библиотеки numpy"
      ]
    },
    {
      "cell_type": "code",
      "execution_count": null,
      "metadata": {
        "colab": {
          "base_uri": "https://localhost:8080/"
        },
        "id": "h1WGN9hseSa0",
        "outputId": "72ac21e2-9230-4b28-e30d-1a8c1356c69c"
      },
      "outputs": [
        {
          "name": "stdout",
          "output_type": "stream",
          "text": [
            "0.0010107557488341552\n",
            "CPU times: user 37.2 ms, sys: 2.98 ms, total: 40.1 ms\n",
            "Wall time: 40.3 ms\n"
          ]
        }
      ],
      "source": [
        "%%time\n",
        "\n",
        "N, M = 500, 1000\n",
        "matrix = sps.uniform.rvs(size=(N, M))\n",
        "mean_min = matrix.min(axis=1).mean()\n",
        "print(mean_min)"
      ]
    },
    {
      "cell_type": "markdown",
      "metadata": {
        "id": "ABVSxP6seSa1"
      },
      "source": [
        "Простой и понятный код работает в 1500 раз быстрее!"
      ]
    },
    {
      "cell_type": "markdown",
      "source": [],
      "metadata": {
        "id": "GAPzUgwfVBaq"
      }
    },
    {
      "cell_type": "markdown",
      "metadata": {
        "id": "oEYwKO7e6ZSr"
      },
      "source": [
        "\n",
        "\n",
        "## Одномерные массивы"
      ]
    },
    {
      "cell_type": "code",
      "execution_count": null,
      "metadata": {
        "id": "yePix4yX6ZSw"
      },
      "outputs": [],
      "source": [
        "from numpy import (array,zeros,ones,arange,linspace,logspace,\n",
        "                   float64,int64,sin,cos,pi,exp,log,sqrt,abs,\n",
        "                   nan,inf,any,all,sort,hstack,vstack,hsplit,\n",
        "                   delete,insert,append,eye,fromfunction,\n",
        "                   trace,diag,average,std,outer,meshgrid)"
      ]
    },
    {
      "cell_type": "markdown",
      "metadata": {
        "id": "mZJ2vSoc6ZSx"
      },
      "source": [
        "Можно преобразовать список в массив."
      ]
    },
    {
      "cell_type": "code",
      "execution_count": null,
      "metadata": {
        "id": "VlYWf_uV6ZSy",
        "outputId": "1fd5587b-4203-42d6-f841-6694e91314b2",
        "colab": {
          "base_uri": "https://localhost:8080/",
          "height": 166
        }
      },
      "outputs": [
        {
          "output_type": "error",
          "ename": "NameError",
          "evalue": "name 'array' is not defined",
          "traceback": [
            "\u001b[0;31m---------------------------------------------------------------------------\u001b[0m",
            "\u001b[0;31mNameError\u001b[0m                                 Traceback (most recent call last)",
            "\u001b[0;32m<ipython-input-1-3e77935f4824>\u001b[0m in \u001b[0;36m<cell line: 1>\u001b[0;34m()\u001b[0m\n\u001b[0;32m----> 1\u001b[0;31m \u001b[0ma\u001b[0m\u001b[0;34m=\u001b[0m\u001b[0marray\u001b[0m\u001b[0;34m(\u001b[0m\u001b[0;34m[\u001b[0m\u001b[0;36m0\u001b[0m\u001b[0;34m,\u001b[0m\u001b[0;36m2\u001b[0m\u001b[0;34m,\u001b[0m\u001b[0;36m1\u001b[0m\u001b[0;34m]\u001b[0m\u001b[0;34m)\u001b[0m\u001b[0;34m\u001b[0m\u001b[0;34m\u001b[0m\u001b[0m\n\u001b[0m\u001b[1;32m      2\u001b[0m \u001b[0ma\u001b[0m\u001b[0;34m,\u001b[0m\u001b[0mtype\u001b[0m\u001b[0;34m(\u001b[0m\u001b[0ma\u001b[0m\u001b[0;34m)\u001b[0m\u001b[0;34m\u001b[0m\u001b[0;34m\u001b[0m\u001b[0m\n",
            "\u001b[0;31mNameError\u001b[0m: name 'array' is not defined"
          ]
        }
      ],
      "source": [
        "a=array([0,2,1])\n",
        "a,type(a)"
      ]
    },
    {
      "cell_type": "markdown",
      "metadata": {
        "id": "fFhAF0E16ZSz"
      },
      "source": [
        "`print` печатает массивы в удобной форме."
      ]
    },
    {
      "cell_type": "code",
      "execution_count": null,
      "metadata": {
        "id": "2uZRFjhH6ZSz",
        "outputId": "09bd4aa8-799c-4cad-a6cf-8c7b7f7f78fb"
      },
      "outputs": [
        {
          "name": "stdout",
          "output_type": "stream",
          "text": [
            "[0 2 1]\n"
          ]
        }
      ],
      "source": [
        "print(a)"
      ]
    },
    {
      "cell_type": "markdown",
      "metadata": {
        "id": "L8O65nvM6ZS0"
      },
      "source": [
        "Класс `ndarray` имеет много методов."
      ]
    },
    {
      "cell_type": "code",
      "execution_count": null,
      "metadata": {
        "id": "fyBjPReF6ZS0",
        "outputId": "37b9df6b-532c-4951-daef-ace045e5c311"
      },
      "outputs": [
        {
          "data": {
            "text/plain": [
              "{'T',\n",
              " '__abs__',\n",
              " '__add__',\n",
              " '__and__',\n",
              " '__array__',\n",
              " '__array_finalize__',\n",
              " '__array_interface__',\n",
              " '__array_prepare__',\n",
              " '__array_priority__',\n",
              " '__array_struct__',\n",
              " '__array_wrap__',\n",
              " '__bool__',\n",
              " '__complex__',\n",
              " '__contains__',\n",
              " '__copy__',\n",
              " '__deepcopy__',\n",
              " '__delitem__',\n",
              " '__divmod__',\n",
              " '__float__',\n",
              " '__floordiv__',\n",
              " '__getitem__',\n",
              " '__iadd__',\n",
              " '__iand__',\n",
              " '__ifloordiv__',\n",
              " '__ilshift__',\n",
              " '__imatmul__',\n",
              " '__imod__',\n",
              " '__imul__',\n",
              " '__index__',\n",
              " '__int__',\n",
              " '__invert__',\n",
              " '__ior__',\n",
              " '__ipow__',\n",
              " '__irshift__',\n",
              " '__isub__',\n",
              " '__iter__',\n",
              " '__itruediv__',\n",
              " '__ixor__',\n",
              " '__len__',\n",
              " '__lshift__',\n",
              " '__matmul__',\n",
              " '__mod__',\n",
              " '__mul__',\n",
              " '__neg__',\n",
              " '__or__',\n",
              " '__pos__',\n",
              " '__pow__',\n",
              " '__radd__',\n",
              " '__rand__',\n",
              " '__rdivmod__',\n",
              " '__rfloordiv__',\n",
              " '__rlshift__',\n",
              " '__rmatmul__',\n",
              " '__rmod__',\n",
              " '__rmul__',\n",
              " '__ror__',\n",
              " '__rpow__',\n",
              " '__rrshift__',\n",
              " '__rshift__',\n",
              " '__rsub__',\n",
              " '__rtruediv__',\n",
              " '__rxor__',\n",
              " '__setitem__',\n",
              " '__setstate__',\n",
              " '__sub__',\n",
              " '__truediv__',\n",
              " '__xor__',\n",
              " 'all',\n",
              " 'any',\n",
              " 'argmax',\n",
              " 'argmin',\n",
              " 'argpartition',\n",
              " 'argsort',\n",
              " 'astype',\n",
              " 'base',\n",
              " 'byteswap',\n",
              " 'choose',\n",
              " 'clip',\n",
              " 'compress',\n",
              " 'conj',\n",
              " 'conjugate',\n",
              " 'copy',\n",
              " 'ctypes',\n",
              " 'cumprod',\n",
              " 'cumsum',\n",
              " 'data',\n",
              " 'diagonal',\n",
              " 'dot',\n",
              " 'dtype',\n",
              " 'dump',\n",
              " 'dumps',\n",
              " 'fill',\n",
              " 'flags',\n",
              " 'flat',\n",
              " 'flatten',\n",
              " 'getfield',\n",
              " 'imag',\n",
              " 'item',\n",
              " 'itemset',\n",
              " 'itemsize',\n",
              " 'max',\n",
              " 'mean',\n",
              " 'min',\n",
              " 'nbytes',\n",
              " 'ndim',\n",
              " 'newbyteorder',\n",
              " 'nonzero',\n",
              " 'partition',\n",
              " 'prod',\n",
              " 'ptp',\n",
              " 'put',\n",
              " 'ravel',\n",
              " 'real',\n",
              " 'repeat',\n",
              " 'reshape',\n",
              " 'resize',\n",
              " 'round',\n",
              " 'searchsorted',\n",
              " 'setfield',\n",
              " 'setflags',\n",
              " 'shape',\n",
              " 'size',\n",
              " 'sort',\n",
              " 'squeeze',\n",
              " 'std',\n",
              " 'strides',\n",
              " 'sum',\n",
              " 'swapaxes',\n",
              " 'take',\n",
              " 'tobytes',\n",
              " 'tofile',\n",
              " 'tolist',\n",
              " 'tostring',\n",
              " 'trace',\n",
              " 'transpose',\n",
              " 'var',\n",
              " 'view'}"
            ]
          },
          "execution_count": 4,
          "metadata": {},
          "output_type": "execute_result"
        }
      ],
      "source": [
        "set(dir(a))-set(dir(object))"
      ]
    },
    {
      "cell_type": "markdown",
      "metadata": {
        "id": "w0CajW0j6ZS1"
      },
      "source": [
        "Наш массив одномерный."
      ]
    },
    {
      "cell_type": "code",
      "execution_count": null,
      "metadata": {
        "id": "zdlfvtHF6ZS1",
        "outputId": "bd105189-1cdd-41f8-d496-2d3f7a9a759b"
      },
      "outputs": [
        {
          "data": {
            "text/plain": [
              "1"
            ]
          },
          "execution_count": 5,
          "metadata": {},
          "output_type": "execute_result"
        }
      ],
      "source": [
        "a.ndim"
      ]
    },
    {
      "cell_type": "markdown",
      "metadata": {
        "id": "4-k3REE36ZS2"
      },
      "source": [
        "В $n$-мерном случае возвращается кортеж размеров по каждой координате."
      ]
    },
    {
      "cell_type": "code",
      "execution_count": null,
      "metadata": {
        "id": "Y9VjBDpn6ZS2",
        "outputId": "ffa4ff78-ee1a-41be-d2bf-17aaf03d26d0"
      },
      "outputs": [
        {
          "data": {
            "text/plain": [
              "(3,)"
            ]
          },
          "execution_count": 6,
          "metadata": {},
          "output_type": "execute_result"
        }
      ],
      "source": [
        "a.shape"
      ]
    },
    {
      "cell_type": "markdown",
      "metadata": {
        "id": "Cz2EwRJA6ZS2"
      },
      "source": [
        "`size` - это полное число элементов в массиве; `len` - размер по первой координате (в 1-мерном случае это то же самое)."
      ]
    },
    {
      "cell_type": "code",
      "execution_count": null,
      "metadata": {
        "id": "bnKD6-6u6ZS3",
        "outputId": "8ec86620-b8a6-41a4-d987-f528a619f60e"
      },
      "outputs": [
        {
          "data": {
            "text/plain": [
              "(3, 3)"
            ]
          },
          "execution_count": 7,
          "metadata": {},
          "output_type": "execute_result"
        }
      ],
      "source": [
        "len(a),a.size"
      ]
    },
    {
      "cell_type": "markdown",
      "metadata": {
        "id": "CktKx51m6ZS3"
      },
      "source": [
        "`numpy` предоставляет несколько типов для целых (`int16`, `int32`, `int64`) и чисел с плавающей точкой (`float32`, `float64`)."
      ]
    },
    {
      "cell_type": "code",
      "execution_count": null,
      "metadata": {
        "id": "n7Rpvidb6ZS3",
        "outputId": "be3009bf-d6ca-4b9c-c251-dbc392f4b1ac"
      },
      "outputs": [
        {
          "data": {
            "text/plain": [
              "(dtype('int64'), 'int64', 8)"
            ]
          },
          "execution_count": 8,
          "metadata": {},
          "output_type": "execute_result"
        }
      ],
      "source": [
        "a.dtype,a.dtype.name,a.itemsize"
      ]
    },
    {
      "cell_type": "markdown",
      "metadata": {
        "id": "2pUySiH46ZS4"
      },
      "source": [
        "Индексировать массив можно обычным образом."
      ]
    },
    {
      "cell_type": "code",
      "execution_count": null,
      "metadata": {
        "id": "acnmBSNT6ZS4",
        "outputId": "8c4bd3a5-3583-47a0-90e3-528999a068e0"
      },
      "outputs": [
        {
          "data": {
            "text/plain": [
              "2"
            ]
          },
          "execution_count": 9,
          "metadata": {},
          "output_type": "execute_result"
        }
      ],
      "source": [
        "a[1]"
      ]
    },
    {
      "cell_type": "markdown",
      "metadata": {
        "id": "ir9rTUhx6ZS4"
      },
      "source": [
        "Массивы - изменяемые объекты."
      ]
    },
    {
      "cell_type": "code",
      "execution_count": null,
      "metadata": {
        "id": "Rc4Nf9Vw6ZS4",
        "outputId": "1515faf3-6eb1-4680-c551-366cd6693c4b"
      },
      "outputs": [
        {
          "name": "stdout",
          "output_type": "stream",
          "text": [
            "[0 3 1]\n"
          ]
        }
      ],
      "source": [
        "a[1]=3\n",
        "print(a)"
      ]
    },
    {
      "cell_type": "markdown",
      "metadata": {
        "id": "mjyjMTbL6ZS5"
      },
      "source": [
        "Массивы, разумеется, можно использовать в `for` циклах. Но при этом теряется главное преимущество `numpy` - быстродействие. Всегда, когда это возможно, лучше использовать операции над массивами как едиными целыми."
      ]
    },
    {
      "cell_type": "code",
      "execution_count": null,
      "metadata": {
        "id": "g2qiGmkc6ZS5",
        "outputId": "0cd1b2ad-0eb6-4438-a25b-558047171bf8"
      },
      "outputs": [
        {
          "name": "stdout",
          "output_type": "stream",
          "text": [
            "0\n",
            "3\n",
            "1\n"
          ]
        }
      ],
      "source": [
        "for i in a:\n",
        "    print(i)"
      ]
    },
    {
      "cell_type": "markdown",
      "metadata": {
        "id": "Pbm4ucsk6ZS5"
      },
      "source": [
        "Массив чисел с плавающей точкой."
      ]
    },
    {
      "cell_type": "code",
      "execution_count": null,
      "metadata": {
        "id": "MA9EILud6ZS6",
        "outputId": "c35e61c2-a27b-49be-b9ce-b1a25ce523c8"
      },
      "outputs": [
        {
          "data": {
            "text/plain": [
              "dtype('float64')"
            ]
          },
          "execution_count": 12,
          "metadata": {},
          "output_type": "execute_result"
        }
      ],
      "source": [
        "b=array([0.,2,1])\n",
        "b.dtype"
      ]
    },
    {
      "cell_type": "markdown",
      "metadata": {
        "id": "qVcSWjQw6ZS6"
      },
      "source": [
        "Точно такой же массив."
      ]
    },
    {
      "cell_type": "code",
      "execution_count": null,
      "metadata": {
        "id": "f5tg28hs6ZS6",
        "outputId": "637fe89a-0fef-45d1-8e81-f88ebc4f0c24"
      },
      "outputs": [
        {
          "name": "stdout",
          "output_type": "stream",
          "text": [
            "[ 0.  2.  1.]\n"
          ]
        }
      ],
      "source": [
        "c=array([0,2,1],dtype=float64)\n",
        "print(c)"
      ]
    },
    {
      "cell_type": "code",
      "execution_count": null,
      "metadata": {
        "id": "_J-58H1q6ZS7"
      },
      "outputs": [],
      "source": [
        "array([1.2,1.5,1.8],dtype=int64)"
      ]
    },
    {
      "cell_type": "markdown",
      "metadata": {
        "id": "jLHj0qkR6ZS7"
      },
      "source": [
        "Массив, значения которого вычисляются функцией. Функции передаётся массив. Так что в ней можно использовать только такие операции, которые применимы к массивам."
      ]
    },
    {
      "cell_type": "code",
      "execution_count": null,
      "metadata": {
        "id": "l1GlM4RO6ZS7",
        "outputId": "917aac0a-bcb9-437a-bb15-bfd33f1bf607"
      },
      "outputs": [
        {
          "name": "stdout",
          "output_type": "stream",
          "text": [
            "[0 1 2 3 4]\n",
            "[ 0  1  4  9 16]\n"
          ]
        }
      ],
      "source": [
        "def f(i):\n",
        "    print(i)\n",
        "    return i**2\n",
        "a=fromfunction(f,(5,),dtype=int64)\n",
        "print(a)"
      ]
    },
    {
      "cell_type": "code",
      "execution_count": null,
      "metadata": {
        "id": "jaS4l37A6ZS7",
        "outputId": "1bdec4ab-3eb7-4d6e-dbf1-77454eb1a0bd"
      },
      "outputs": [
        {
          "name": "stdout",
          "output_type": "stream",
          "text": [
            "[ 0.  1.  2.  3.  4.]\n",
            "[  0.   1.   4.   9.  16.]\n"
          ]
        }
      ],
      "source": [
        "a=fromfunction(f,(5,),dtype=float64)\n",
        "print(a)"
      ]
    },
    {
      "cell_type": "markdown",
      "metadata": {
        "id": "Ok5S5tqE6ZS7"
      },
      "source": [
        "Массивы, заполненные нулями или единицами. Часто лучше сначала создать такой массив, а потом присваивать значения его элементам."
      ]
    },
    {
      "cell_type": "code",
      "execution_count": null,
      "metadata": {
        "id": "z2FLA-cN6ZS8",
        "outputId": "57f7d497-5019-4f51-bb7b-9044adba28c1"
      },
      "outputs": [
        {
          "name": "stdout",
          "output_type": "stream",
          "text": [
            "[ 0.  0.  0.]\n"
          ]
        }
      ],
      "source": [
        "a=zeros(3)\n",
        "print(a)"
      ]
    },
    {
      "cell_type": "code",
      "execution_count": null,
      "metadata": {
        "id": "U5UDkMlV6ZS8",
        "outputId": "559798ba-80a1-4be3-cd1f-ce8d90f0ec88"
      },
      "outputs": [
        {
          "name": "stdout",
          "output_type": "stream",
          "text": [
            "[1 1 1]\n"
          ]
        }
      ],
      "source": [
        "b=ones(3,dtype=int64)\n",
        "print(b)"
      ]
    },
    {
      "cell_type": "markdown",
      "metadata": {
        "id": "J-XGlTdx6ZS8"
      },
      "source": [
        "Функция `arange` подобна `range`. Аргументы могут быть с плавающей точкой. Следует избегать ситуаций, когда $(конец-начало)/шаг$ - целое число, потому что в этом случае включение последнего элемента зависит от ошибок округления. Лучше, чтобы конец диапазона был где-то посредине шага."
      ]
    },
    {
      "cell_type": "code",
      "execution_count": null,
      "metadata": {
        "id": "vR1EkbhI6ZS8",
        "outputId": "5735795f-19eb-4a09-e056-4d92a316b3c7"
      },
      "outputs": [
        {
          "name": "stdout",
          "output_type": "stream",
          "text": [
            "[0 2 4 6 8]\n"
          ]
        }
      ],
      "source": [
        "a=arange(0,9,2)\n",
        "print(a)"
      ]
    },
    {
      "cell_type": "code",
      "execution_count": null,
      "metadata": {
        "id": "h3l6IiGV6ZS9",
        "outputId": "fa2173f6-b85c-49df-c087-2b14cbcbbf7e"
      },
      "outputs": [
        {
          "name": "stdout",
          "output_type": "stream",
          "text": [
            "[ 0.  2.  4.  6.  8.]\n"
          ]
        }
      ],
      "source": [
        "b=arange(0.,9,2)\n",
        "print(b)"
      ]
    },
    {
      "cell_type": "markdown",
      "metadata": {
        "id": "hLCYA9va6ZS9"
      },
      "source": [
        "Последовательности чисел с постоянным шагом можно также создавать функцией `linspace`. Начало и конец диапазона включаются; последний аргумент - число точек."
      ]
    },
    {
      "cell_type": "code",
      "execution_count": null,
      "metadata": {
        "id": "SuiHkwNi6ZS9",
        "outputId": "9ccfee80-70db-42e9-8a6a-97efb5cff545"
      },
      "outputs": [
        {
          "name": "stdout",
          "output_type": "stream",
          "text": [
            "[ 0.  2.  4.  6.  8.]\n"
          ]
        }
      ],
      "source": [
        "a=linspace(0,8,5)\n",
        "print(a)"
      ]
    },
    {
      "cell_type": "markdown",
      "metadata": {
        "id": "7nOaLg8S6ZS9"
      },
      "source": [
        "Последовательность чисел с постоянным шагом по логарифмической шкале от $10^0$ до $10^1$."
      ]
    },
    {
      "cell_type": "code",
      "execution_count": null,
      "metadata": {
        "id": "n-fB9ndJ6ZS-",
        "outputId": "91775584-ef3a-4bf7-c52d-b7dc98568488"
      },
      "outputs": [
        {
          "name": "stdout",
          "output_type": "stream",
          "text": [
            "[  1.           1.77827941   3.16227766   5.62341325  10.        ]\n"
          ]
        }
      ],
      "source": [
        "b=logspace(0,1,5)\n",
        "print(b)"
      ]
    },
    {
      "cell_type": "markdown",
      "metadata": {
        "id": "Nzx3M0QL6ZS-"
      },
      "source": [
        "Массив случайных чисел."
      ]
    },
    {
      "cell_type": "code",
      "execution_count": null,
      "metadata": {
        "id": "syK_7XTV6ZS-",
        "outputId": "24bb7293-dc24-45ee-bcf0-67b19d1e4e95"
      },
      "outputs": [
        {
          "name": "stdout",
          "output_type": "stream",
          "text": [
            "[ 0.63038745  0.24031792  0.75969506  0.98191274  0.9023238 ]\n"
          ]
        }
      ],
      "source": [
        "from numpy.random import random,normal\n",
        "print(random(5))"
      ]
    },
    {
      "cell_type": "markdown",
      "metadata": {
        "id": "arSY48PJ6ZS-"
      },
      "source": [
        "Случайные числа с нормальным (гауссовым) распределением (среднее `0`, среднеквадратичное отклонение `1`)."
      ]
    },
    {
      "cell_type": "code",
      "execution_count": null,
      "metadata": {
        "id": "jQjXwILB6ZS-",
        "outputId": "f091fd6e-73f4-446f-cf8f-bcd3f7bd0a86"
      },
      "outputs": [
        {
          "name": "stdout",
          "output_type": "stream",
          "text": [
            "[-0.06409544  0.26656068 -1.83718422 -1.01312915  0.0445343 ]\n"
          ]
        }
      ],
      "source": [
        "print(normal(size=5))"
      ]
    },
    {
      "cell_type": "markdown",
      "metadata": {
        "id": "T152gGzH6ZS-"
      },
      "source": [
        "### Операции над одномерными массивами\n",
        "\n",
        "Арифметические операции проводятся поэлементно."
      ]
    },
    {
      "cell_type": "code",
      "execution_count": null,
      "metadata": {
        "id": "1RdpAOSn6ZS_",
        "outputId": "b8b59faa-260e-4cc1-ea70-20ef1d5f3bf3"
      },
      "outputs": [
        {
          "name": "stdout",
          "output_type": "stream",
          "text": [
            "[  1.           3.77827941   7.16227766  11.62341325  18.        ]\n"
          ]
        }
      ],
      "source": [
        "print(a+b)"
      ]
    },
    {
      "cell_type": "code",
      "execution_count": null,
      "metadata": {
        "id": "QuRSdcE36ZS_",
        "outputId": "e5a588d9-8e29-444a-9b31-8394ad4e83ad"
      },
      "outputs": [
        {
          "name": "stdout",
          "output_type": "stream",
          "text": [
            "[-1.          0.22172059  0.83772234  0.37658675 -2.        ]\n"
          ]
        }
      ],
      "source": [
        "print(a-b)"
      ]
    },
    {
      "cell_type": "code",
      "execution_count": null,
      "metadata": {
        "id": "hKfk4q3G6ZS_",
        "outputId": "382c379c-89e1-4a24-d238-cf8b23365b17"
      },
      "outputs": [
        {
          "name": "stdout",
          "output_type": "stream",
          "text": [
            "[  0.           3.55655882  12.64911064  33.74047951  80.        ]\n"
          ]
        }
      ],
      "source": [
        "print(a*b)"
      ]
    },
    {
      "cell_type": "markdown",
      "metadata": {
        "id": "UYJRnYbW6ZS_"
      },
      "source": [
        "Скалярное произведение"
      ]
    },
    {
      "cell_type": "code",
      "execution_count": null,
      "metadata": {
        "id": "NfF91vWL6ZS_",
        "outputId": "8b896bc4-eb13-4717-f6ad-9a9320ec9c7c"
      },
      "outputs": [
        {
          "data": {
            "text/plain": [
              "129.9461489721723"
            ]
          },
          "execution_count": 28,
          "metadata": {},
          "output_type": "execute_result"
        }
      ],
      "source": [
        "a@b"
      ]
    },
    {
      "cell_type": "code",
      "execution_count": null,
      "metadata": {
        "id": "HZkFdKiC6ZTA",
        "outputId": "f1542edd-1ef3-45ce-95bb-aea7f6ebc6cd"
      },
      "outputs": [
        {
          "name": "stdout",
          "output_type": "stream",
          "text": [
            "[ 0.          1.12468265  1.26491106  1.06696765  0.8       ]\n"
          ]
        }
      ],
      "source": [
        "print(a/b)"
      ]
    },
    {
      "cell_type": "code",
      "execution_count": null,
      "metadata": {
        "id": "x1x7oP_w6ZTA",
        "outputId": "d5e70262-df2d-414a-cbc3-1eb5decfd5ae"
      },
      "outputs": [
        {
          "name": "stdout",
          "output_type": "stream",
          "text": [
            "[  0.   4.  16.  36.  64.]\n"
          ]
        }
      ],
      "source": [
        "print(a**2)"
      ]
    },
    {
      "cell_type": "markdown",
      "metadata": {
        "id": "FaCfDObq6ZTA"
      },
      "source": [
        "Когда операнды разных типов, они пиводятся к большему типу."
      ]
    },
    {
      "cell_type": "code",
      "execution_count": null,
      "metadata": {
        "id": "QRZHfZfQ6ZTA",
        "outputId": "5ee99a77-23c4-48f3-d222-a71cbf368fdf"
      },
      "outputs": [
        {
          "name": "stdout",
          "output_type": "stream",
          "text": [
            "[ 1.  3.  5.  7.  9.]\n"
          ]
        }
      ],
      "source": [
        "i=ones(5,dtype=int64)\n",
        "print(a+i)"
      ]
    },
    {
      "cell_type": "markdown",
      "metadata": {
        "id": "-I0Cb1Md6ZTA"
      },
      "source": [
        "`numpy` содержит элементарные функции, которые тоже применяются к массивам поэлементно. Они называются универсальными функциями (`ufunc`)."
      ]
    },
    {
      "cell_type": "code",
      "execution_count": null,
      "metadata": {
        "id": "d_3qntQK6ZTA",
        "outputId": "7c107661-3a44-4f60-baf5-914dee524da0"
      },
      "outputs": [
        {
          "data": {
            "text/plain": [
              "(<ufunc 'sin'>, numpy.ufunc)"
            ]
          },
          "execution_count": 32,
          "metadata": {},
          "output_type": "execute_result"
        }
      ],
      "source": [
        "sin,type(sin)"
      ]
    },
    {
      "cell_type": "code",
      "execution_count": null,
      "metadata": {
        "id": "w1xLX6bV6ZTB",
        "outputId": "0b815c57-e585-412a-ab25-819e9b7896b0"
      },
      "outputs": [
        {
          "name": "stdout",
          "output_type": "stream",
          "text": [
            "[ 0.          0.90929743 -0.7568025  -0.2794155   0.98935825]\n"
          ]
        }
      ],
      "source": [
        "print(sin(a))"
      ]
    },
    {
      "cell_type": "markdown",
      "metadata": {
        "id": "cR8GrTEn6ZTB"
      },
      "source": [
        "Один из операндов может быть скаляром, а не массивом."
      ]
    },
    {
      "cell_type": "code",
      "execution_count": null,
      "metadata": {
        "id": "3UMygtOY6ZTB",
        "outputId": "bce73f7a-15f8-4d01-f0d3-322f338db65b"
      },
      "outputs": [
        {
          "name": "stdout",
          "output_type": "stream",
          "text": [
            "[ 1.  3.  5.  7.  9.]\n"
          ]
        }
      ],
      "source": [
        "print(a+1)"
      ]
    },
    {
      "cell_type": "code",
      "execution_count": null,
      "metadata": {
        "id": "fPt3_f8o6ZTB",
        "outputId": "e4d75480-2e5e-48b7-d307-9078c322117b"
      },
      "outputs": [
        {
          "name": "stdout",
          "output_type": "stream",
          "text": [
            "[  0.   4.   8.  12.  16.]\n"
          ]
        }
      ],
      "source": [
        "print(2*a)"
      ]
    },
    {
      "cell_type": "markdown",
      "metadata": {
        "id": "fyuvIQi66ZTB"
      },
      "source": [
        "Сравнения дают булевы массивы."
      ]
    },
    {
      "cell_type": "code",
      "execution_count": null,
      "metadata": {
        "id": "DOzFceJf6ZTC",
        "outputId": "529e90ca-990b-4128-a3d4-ba89eef36fd0"
      },
      "outputs": [
        {
          "name": "stdout",
          "output_type": "stream",
          "text": [
            "[False  True  True  True False]\n"
          ]
        }
      ],
      "source": [
        "print(a>b)"
      ]
    },
    {
      "cell_type": "code",
      "execution_count": null,
      "metadata": {
        "id": "UQTuVFcD6ZTC",
        "outputId": "4f878983-a208-4699-fde7-30192d1ce52c"
      },
      "outputs": [
        {
          "name": "stdout",
          "output_type": "stream",
          "text": [
            "[False False False False False]\n"
          ]
        }
      ],
      "source": [
        "print(a==b)"
      ]
    },
    {
      "cell_type": "code",
      "execution_count": null,
      "metadata": {
        "id": "SB0s_A746ZTC",
        "outputId": "26bf4861-6c24-4fab-9681-cb5b4f8e3493"
      },
      "outputs": [
        {
          "name": "stdout",
          "output_type": "stream",
          "text": [
            "[False False False  True  True]\n"
          ]
        }
      ],
      "source": [
        "c=a>5\n",
        "print(c)"
      ]
    },
    {
      "cell_type": "markdown",
      "metadata": {
        "id": "VKcIe-uF6ZTC"
      },
      "source": [
        "Кванторы \"существует\" и \"для всех\"."
      ]
    },
    {
      "cell_type": "code",
      "execution_count": null,
      "metadata": {
        "id": "MrSWjq7t6ZTC",
        "outputId": "6802decf-97fc-4041-8e2a-528d1cc9bd51"
      },
      "outputs": [
        {
          "data": {
            "text/plain": [
              "(True, False)"
            ]
          },
          "execution_count": 39,
          "metadata": {},
          "output_type": "execute_result"
        }
      ],
      "source": [
        "any(c),all(c)"
      ]
    },
    {
      "cell_type": "markdown",
      "metadata": {
        "id": "CJFTU52y6ZTD"
      },
      "source": [
        "Модификация на месте."
      ]
    },
    {
      "cell_type": "code",
      "execution_count": null,
      "metadata": {
        "id": "4HW72rwO6ZTD",
        "outputId": "dbc627b8-7697-4241-b5c3-ccd2f0bc426d"
      },
      "outputs": [
        {
          "name": "stdout",
          "output_type": "stream",
          "text": [
            "[ 1.  3.  5.  7.  9.]\n"
          ]
        }
      ],
      "source": [
        "a+=1\n",
        "print(a)"
      ]
    },
    {
      "cell_type": "code",
      "execution_count": null,
      "metadata": {
        "id": "mxtncEwR6ZTD",
        "outputId": "21080988-0e60-4303-a8d4-faedc2c3fc5a"
      },
      "outputs": [
        {
          "name": "stdout",
          "output_type": "stream",
          "text": [
            "[  2.           3.55655882   6.32455532  11.2468265   20.        ]\n"
          ]
        }
      ],
      "source": [
        "b*=2\n",
        "print(b)"
      ]
    },
    {
      "cell_type": "code",
      "execution_count": null,
      "metadata": {
        "id": "hiA9B57i6ZTD",
        "outputId": "9312c05c-38a1-41d9-e7c8-b3dcac18f8de"
      },
      "outputs": [
        {
          "name": "stdout",
          "output_type": "stream",
          "text": [
            "[ 2.          1.18551961  1.26491106  1.6066895   2.22222222]\n"
          ]
        }
      ],
      "source": [
        "b/=a\n",
        "print(b)"
      ]
    },
    {
      "cell_type": "markdown",
      "metadata": {
        "id": "u0MC5-Mr6ZTD"
      },
      "source": [
        "Так делать можно."
      ]
    },
    {
      "cell_type": "code",
      "execution_count": null,
      "metadata": {
        "collapsed": true,
        "id": "RcLh0z6F6ZTE"
      },
      "outputs": [],
      "source": [
        "a+=i"
      ]
    },
    {
      "cell_type": "markdown",
      "metadata": {
        "id": "MdHd3GlQ6ZTE"
      },
      "source": [
        "А так нельзя."
      ]
    },
    {
      "cell_type": "code",
      "execution_count": null,
      "metadata": {
        "id": "VcSbDhDK6ZTF",
        "outputId": "cbe2938a-8e1c-4624-dbfc-d9c9ea2f0648"
      },
      "outputs": [
        {
          "ename": "TypeError",
          "evalue": "Cannot cast ufunc add output from dtype('float64') to dtype('int64') with casting rule 'same_kind'",
          "output_type": "error",
          "traceback": [
            "\u001b[0;31m---------------------------------------------------------------------------\u001b[0m",
            "\u001b[0;31mTypeError\u001b[0m                                 Traceback (most recent call last)",
            "\u001b[0;32m<ipython-input-44-300abee39dd1>\u001b[0m in \u001b[0;36m<module>\u001b[0;34m()\u001b[0m\n\u001b[0;32m----> 1\u001b[0;31m \u001b[0mi\u001b[0m\u001b[0;34m+=\u001b[0m\u001b[0ma\u001b[0m\u001b[0;34m\u001b[0m\u001b[0m\n\u001b[0m",
            "\u001b[0;31mTypeError\u001b[0m: Cannot cast ufunc add output from dtype('float64') to dtype('int64') with casting rule 'same_kind'"
          ]
        }
      ],
      "source": [
        "i+=a"
      ]
    },
    {
      "cell_type": "markdown",
      "metadata": {
        "id": "U5tdDj_M6ZTF"
      },
      "source": [
        "При выполнении операций над массивами деление на 0 не возбуждает исключения, а даёт значения `np.nan` или `np.inf`."
      ]
    },
    {
      "cell_type": "code",
      "execution_count": null,
      "metadata": {
        "id": "HqFQH-EM6ZTF",
        "outputId": "049999a5-acce-41d9-8767-d8cd46f5d6e3"
      },
      "outputs": [
        {
          "name": "stdout",
          "output_type": "stream",
          "text": [
            "[  0.  nan  inf -inf]\n"
          ]
        },
        {
          "name": "stderr",
          "output_type": "stream",
          "text": [
            "/usr/lib64/python3.6/site-packages/ipykernel/__main__.py:1: RuntimeWarning: divide by zero encountered in true_divide\n",
            "  if __name__ == '__main__':\n",
            "/usr/lib64/python3.6/site-packages/ipykernel/__main__.py:1: RuntimeWarning: invalid value encountered in true_divide\n",
            "  if __name__ == '__main__':\n"
          ]
        }
      ],
      "source": [
        "print(array([0.0,0.0,1.0,-1.0])/array([1.0,0.0,0.0,0.0]))"
      ]
    },
    {
      "cell_type": "code",
      "execution_count": null,
      "metadata": {
        "id": "p4CeMMGt6ZTG",
        "outputId": "5c64bbe4-fca1-4bdb-e6fd-b107e9081411"
      },
      "outputs": [
        {
          "data": {
            "text/plain": [
              "(nan, inf, nan, 0.0, nan)"
            ]
          },
          "execution_count": 46,
          "metadata": {},
          "output_type": "execute_result"
        }
      ],
      "source": [
        "nan+1,inf+1,inf*0,1./inf,inf/inf"
      ]
    },
    {
      "cell_type": "code",
      "execution_count": null,
      "metadata": {
        "id": "tyxBbhQa6ZTG",
        "outputId": "61a05d26-22ec-4155-f3a0-44b01e2c9c05"
      },
      "outputs": [
        {
          "data": {
            "text/plain": [
              "(False, True)"
            ]
          },
          "execution_count": 47,
          "metadata": {},
          "output_type": "execute_result"
        }
      ],
      "source": [
        "nan==nan,inf==inf"
      ]
    },
    {
      "cell_type": "markdown",
      "metadata": {
        "id": "kj1pMLcP6ZTG"
      },
      "source": [
        "Сумма и произведение всех элементов массива; максимальный и минимальный элемент; среднее и среднеквадратичное отклонение."
      ]
    },
    {
      "cell_type": "code",
      "execution_count": null,
      "metadata": {
        "id": "VHcGAQ726ZTG",
        "outputId": "39b4faa3-4501-465e-c7ff-20d84cf6edc4"
      },
      "outputs": [
        {
          "data": {
            "text/plain": [
              "(8.2793423935260435,\n",
              " 10.708241812210389,\n",
              " 2.2222222222222223,\n",
              " 1.1855196066926152,\n",
              " 1.6558684787052087,\n",
              " 0.40390033426607452)"
            ]
          },
          "execution_count": 48,
          "metadata": {},
          "output_type": "execute_result"
        }
      ],
      "source": [
        "b.sum(),b.prod(),b.max(),b.min(),b.mean(),b.std()"
      ]
    },
    {
      "cell_type": "code",
      "execution_count": null,
      "metadata": {
        "id": "tU7IuHwK6ZTG",
        "outputId": "3a7a5101-f520-4960-fc4c-711419adbd53"
      },
      "outputs": [
        {
          "data": {
            "text/plain": [
              "(-0.048736395274562645, 0.98622825985036244)"
            ]
          },
          "execution_count": 49,
          "metadata": {},
          "output_type": "execute_result"
        }
      ],
      "source": [
        "x=normal(size=1000)\n",
        "x.mean(),x.std()"
      ]
    },
    {
      "cell_type": "markdown",
      "metadata": {
        "id": "BvLWYK2o6ZTG"
      },
      "source": [
        "Функция `sort` возвращает отсортированную копию, метод `sort` сортирует на месте."
      ]
    },
    {
      "cell_type": "code",
      "execution_count": null,
      "metadata": {
        "id": "gCjB4b-V6ZTH",
        "outputId": "10c19900-0842-49f0-bf8f-cff67d05310b"
      },
      "outputs": [
        {
          "name": "stdout",
          "output_type": "stream",
          "text": [
            "[ 1.18551961  1.26491106  1.6066895   2.          2.22222222]\n",
            "[ 2.          1.18551961  1.26491106  1.6066895   2.22222222]\n"
          ]
        }
      ],
      "source": [
        "print(sort(b))\n",
        "print(b)"
      ]
    },
    {
      "cell_type": "code",
      "execution_count": null,
      "metadata": {
        "id": "v9yfyB-F6ZTH",
        "outputId": "347caa84-7572-45ee-d781-54de2b0d4405"
      },
      "outputs": [
        {
          "name": "stdout",
          "output_type": "stream",
          "text": [
            "[ 1.18551961  1.26491106  1.6066895   2.          2.22222222]\n"
          ]
        }
      ],
      "source": [
        "b.sort()\n",
        "print(b)"
      ]
    },
    {
      "cell_type": "markdown",
      "metadata": {
        "id": "tZbT_b_V6ZTH"
      },
      "source": [
        "Объединение массивов."
      ]
    },
    {
      "cell_type": "code",
      "execution_count": null,
      "metadata": {
        "id": "SLqShres6ZTH",
        "outputId": "d6271b9f-fdc6-415a-bc72-a326d4c674eb"
      },
      "outputs": [
        {
          "name": "stdout",
          "output_type": "stream",
          "text": [
            "[  2.           4.           6.           8.          10.           1.18551961\n",
            "   1.26491106   1.6066895    2.           2.22222222]\n"
          ]
        }
      ],
      "source": [
        "a=hstack((a,b))\n",
        "print(a)"
      ]
    },
    {
      "cell_type": "markdown",
      "metadata": {
        "id": "yX-lQVZ56ZTH"
      },
      "source": [
        "Расщепление массива в позициях 3 и 6."
      ]
    },
    {
      "cell_type": "code",
      "execution_count": null,
      "metadata": {
        "id": "-xA2wusx6ZTH",
        "outputId": "9c59f150-cd1d-4eda-8e6e-e70c25051db1"
      },
      "outputs": [
        {
          "data": {
            "text/plain": [
              "[array([ 2.,  4.,  6.]),\n",
              " array([  8.        ,  10.        ,   1.18551961]),\n",
              " array([ 1.26491106,  1.6066895 ,  2.        ,  2.22222222])]"
            ]
          },
          "execution_count": 53,
          "metadata": {},
          "output_type": "execute_result"
        }
      ],
      "source": [
        "hsplit(a,[3,6])"
      ]
    },
    {
      "cell_type": "markdown",
      "metadata": {
        "id": "8__e-3cp6ZTI"
      },
      "source": [
        "Функции `delete`, `insert` и `append` не меняют массив на месте, а возвращают новый массив, в котором удалены, вставлены в середину или добавлены в конец какие-то элементы."
      ]
    },
    {
      "cell_type": "code",
      "execution_count": null,
      "metadata": {
        "id": "R5lVQwfS6ZTI",
        "outputId": "f3a0503a-ae41-4948-8171-66ccb8f4a346"
      },
      "outputs": [
        {
          "name": "stdout",
          "output_type": "stream",
          "text": [
            "[  2.           4.           6.           8.          10.           1.26491106\n",
            "   2.           2.22222222]\n"
          ]
        }
      ],
      "source": [
        "a=delete(a,[5,7])\n",
        "print(a)"
      ]
    },
    {
      "cell_type": "code",
      "execution_count": null,
      "metadata": {
        "id": "odoppvCL6ZTI",
        "outputId": "46d9e731-d2fc-4e88-bf53-d5dfbab2cda1"
      },
      "outputs": [
        {
          "name": "stdout",
          "output_type": "stream",
          "text": [
            "[  2.           4.           0.           0.           6.           8.          10.\n",
            "   1.26491106   2.           2.22222222]\n"
          ]
        }
      ],
      "source": [
        "a=insert(a,2,[0,0])\n",
        "print(a)"
      ]
    },
    {
      "cell_type": "code",
      "execution_count": null,
      "metadata": {
        "id": "IWLsCDPK6ZTI",
        "outputId": "d8663e99-c50f-45a8-916c-07b92afdecef"
      },
      "outputs": [
        {
          "name": "stdout",
          "output_type": "stream",
          "text": [
            "[  2.           4.           0.           0.           6.           8.          10.\n",
            "   1.26491106   2.           2.22222222   1.           2.           3.        ]\n"
          ]
        }
      ],
      "source": [
        "a=append(a,[1,2,3])\n",
        "print(a)"
      ]
    },
    {
      "cell_type": "markdown",
      "metadata": {
        "id": "KJp2MNtk6ZTI"
      },
      "source": [
        "Есть несколько способов индексации массива. Вот обычный индекс."
      ]
    },
    {
      "cell_type": "code",
      "execution_count": null,
      "metadata": {
        "id": "7T8xjWli6ZTJ",
        "outputId": "37bbbad6-bda1-4acc-891c-be332663897b"
      },
      "outputs": [
        {
          "name": "stdout",
          "output_type": "stream",
          "text": [
            "[ 0.   0.1  0.2  0.3  0.4  0.5  0.6  0.7  0.8  0.9  1. ]\n"
          ]
        }
      ],
      "source": [
        "a=linspace(0,1,11)\n",
        "print(a)"
      ]
    },
    {
      "cell_type": "code",
      "execution_count": null,
      "metadata": {
        "id": "OTHtnOYT6ZTJ",
        "outputId": "5eb2acfb-a38f-42be-af71-0561f67e0b95"
      },
      "outputs": [
        {
          "name": "stdout",
          "output_type": "stream",
          "text": [
            "0.2\n"
          ]
        }
      ],
      "source": [
        "b=a[2]\n",
        "print(b)"
      ]
    },
    {
      "cell_type": "markdown",
      "metadata": {
        "id": "Q1FRDK8o6ZTJ"
      },
      "source": [
        "Диапазон индексов. Создаётся новый заголовок массива, указывающий на те же данные. Изменения, сделанные через такой массив, видны и в исходном массиве."
      ]
    },
    {
      "cell_type": "code",
      "execution_count": null,
      "metadata": {
        "id": "TXmT1m8w6ZTJ",
        "outputId": "e9d1c36d-4eac-437d-b214-81a26ba17db6"
      },
      "outputs": [
        {
          "name": "stdout",
          "output_type": "stream",
          "text": [
            "[ 0.2  0.3  0.4  0.5]\n"
          ]
        }
      ],
      "source": [
        "b=a[2:6]\n",
        "print(b)"
      ]
    },
    {
      "cell_type": "code",
      "execution_count": null,
      "metadata": {
        "id": "lj1PWIwu6ZTJ",
        "outputId": "078a1143-d06e-4057-feaa-442c5ae7638b"
      },
      "outputs": [
        {
          "name": "stdout",
          "output_type": "stream",
          "text": [
            "[-0.2  0.3  0.4  0.5]\n"
          ]
        }
      ],
      "source": [
        "b[0]=-0.2\n",
        "print(b)"
      ]
    },
    {
      "cell_type": "code",
      "execution_count": null,
      "metadata": {
        "id": "WrSSUBVY6ZTK",
        "outputId": "324a3456-010c-4db9-8ec5-2d2c5e0a8214"
      },
      "outputs": [
        {
          "name": "stdout",
          "output_type": "stream",
          "text": [
            "[ 0.   0.1 -0.2  0.3  0.4  0.5  0.6  0.7  0.8  0.9  1. ]\n"
          ]
        }
      ],
      "source": [
        "print(a)"
      ]
    },
    {
      "cell_type": "markdown",
      "metadata": {
        "id": "j37F2uef6ZTK"
      },
      "source": [
        "Диапазон с шагом 2."
      ]
    },
    {
      "cell_type": "code",
      "execution_count": null,
      "metadata": {
        "id": "F4L6tkHF6ZTK",
        "outputId": "6bc4b576-a6c5-4072-e7f9-8af2d6bbd087"
      },
      "outputs": [
        {
          "name": "stdout",
          "output_type": "stream",
          "text": [
            "[ 0.1  0.3  0.5  0.7  0.9]\n"
          ]
        }
      ],
      "source": [
        "b=a[1:10:2]\n",
        "print(b)"
      ]
    },
    {
      "cell_type": "code",
      "execution_count": null,
      "metadata": {
        "id": "mp8zE22a6ZTK",
        "outputId": "536d43f2-3b26-4362-9580-0f4e2db5f80c"
      },
      "outputs": [
        {
          "name": "stdout",
          "output_type": "stream",
          "text": [
            "[ 0.  -0.1 -0.2  0.3  0.4  0.5  0.6  0.7  0.8  0.9  1. ]\n"
          ]
        }
      ],
      "source": [
        "b[0]=-0.1\n",
        "print(a)"
      ]
    },
    {
      "cell_type": "markdown",
      "metadata": {
        "id": "jZCARHel6ZTL"
      },
      "source": [
        "Массив в обратном порядке."
      ]
    },
    {
      "cell_type": "code",
      "execution_count": null,
      "metadata": {
        "id": "Wlu_jO0h6ZTL",
        "outputId": "e20332ec-5eb8-4a20-ced6-a55093c90957"
      },
      "outputs": [
        {
          "name": "stdout",
          "output_type": "stream",
          "text": [
            "[ 1.   0.9  0.8  0.7  0.6  0.5  0.4  0.3 -0.2 -0.1]\n"
          ]
        }
      ],
      "source": [
        "b=a[len(a):0:-1]\n",
        "print(b)"
      ]
    },
    {
      "cell_type": "markdown",
      "metadata": {
        "id": "6o1aMAtW6ZTL"
      },
      "source": [
        "Подмассиву можно присвоить значение - массив правильного размера или скаляр."
      ]
    },
    {
      "cell_type": "code",
      "execution_count": null,
      "metadata": {
        "id": "UmkhXPyu6ZTL",
        "outputId": "4a014894-7bb3-459a-e33a-2df78e905e63"
      },
      "outputs": [
        {
          "name": "stdout",
          "output_type": "stream",
          "text": [
            "[ 0.   0.  -0.2  0.3  0.   0.5  0.6  0.   0.8  0.9  1. ]\n"
          ]
        }
      ],
      "source": [
        "a[1:10:3]=0\n",
        "print(a)"
      ]
    },
    {
      "cell_type": "markdown",
      "metadata": {
        "id": "iajpAFGJ6ZTL"
      },
      "source": [
        "Тут опять создаётся только новый заголовок, указывающий на те же данные."
      ]
    },
    {
      "cell_type": "code",
      "execution_count": null,
      "metadata": {
        "id": "yem-jyY46ZTL",
        "outputId": "167656ad-d38a-42a5-f615-bf4129868e26"
      },
      "outputs": [
        {
          "name": "stdout",
          "output_type": "stream",
          "text": [
            "[ 0.   0.1 -0.2  0.3  0.   0.5  0.6  0.   0.8  0.9  1. ]\n"
          ]
        }
      ],
      "source": [
        "b=a[:]\n",
        "b[1]=0.1\n",
        "print(a)"
      ]
    },
    {
      "cell_type": "markdown",
      "metadata": {
        "id": "cE7vkDPI6ZTM"
      },
      "source": [
        "Чтобы скопировать и данные массива, нужно использовать метод `copy`."
      ]
    },
    {
      "cell_type": "code",
      "execution_count": null,
      "metadata": {
        "id": "MEhWtsT36ZTM",
        "outputId": "1b044b3a-3e25-409a-fbbb-bc92f2e555da"
      },
      "outputs": [
        {
          "name": "stdout",
          "output_type": "stream",
          "text": [
            "[ 0.   0.1  0.   0.3  0.   0.5  0.6  0.   0.8  0.9  1. ]\n",
            "[ 0.   0.1 -0.2  0.3  0.   0.5  0.6  0.   0.8  0.9  1. ]\n"
          ]
        }
      ],
      "source": [
        "b=a.copy()\n",
        "b[2]=0\n",
        "print(b)\n",
        "print(a)"
      ]
    },
    {
      "cell_type": "markdown",
      "metadata": {
        "id": "Ef3mwVxV6ZTM"
      },
      "source": [
        "Можно задать список индексов."
      ]
    },
    {
      "cell_type": "code",
      "execution_count": null,
      "metadata": {
        "id": "XzUnE0M16ZTM",
        "outputId": "237f4548-15b8-4e13-8183-53956ff95ac6"
      },
      "outputs": [
        {
          "name": "stdout",
          "output_type": "stream",
          "text": [
            "[-0.2  0.3  0.5]\n"
          ]
        }
      ],
      "source": [
        "print(a[[2,3,5]])"
      ]
    },
    {
      "cell_type": "code",
      "execution_count": null,
      "metadata": {
        "id": "jVRtGZOZ6ZTM",
        "outputId": "532168bf-f919-4666-a6d4-55e1e763c230"
      },
      "outputs": [
        {
          "name": "stdout",
          "output_type": "stream",
          "text": [
            "[-0.2  0.3  0.5]\n"
          ]
        }
      ],
      "source": [
        "print(a[array([2,3,5])])"
      ]
    },
    {
      "cell_type": "markdown",
      "metadata": {
        "id": "Kua7ujt16ZTN"
      },
      "source": [
        "Можно задать булев массив той же величины."
      ]
    },
    {
      "cell_type": "code",
      "execution_count": null,
      "metadata": {
        "id": "ROD7xs7B6ZTN",
        "outputId": "82c320b6-5a31-45f1-e4ad-2114b328a1b9"
      },
      "outputs": [
        {
          "name": "stdout",
          "output_type": "stream",
          "text": [
            "[False  True False  True False  True  True False  True  True  True]\n"
          ]
        }
      ],
      "source": [
        "b=a>0\n",
        "print(b)"
      ]
    },
    {
      "cell_type": "code",
      "execution_count": null,
      "metadata": {
        "id": "DZNyBXYy6ZTN",
        "outputId": "952816e2-d784-41da-cc2f-4635ee614045"
      },
      "outputs": [
        {
          "name": "stdout",
          "output_type": "stream",
          "text": [
            "[ 0.1  0.3  0.5  0.6  0.8  0.9  1. ]\n"
          ]
        }
      ],
      "source": [
        "print(a[b])"
      ]
    },
    {
      "cell_type": "markdown",
      "metadata": {
        "collapsed": true,
        "id": "pHKgAEoX6ZTN"
      },
      "source": [
        "## Двухмерные массивы"
      ]
    },
    {
      "cell_type": "code",
      "execution_count": null,
      "metadata": {
        "id": "W5xau_o76ZTN",
        "outputId": "704bc708-3a1a-435e-fd81-b7fad8775bbf"
      },
      "outputs": [
        {
          "name": "stdout",
          "output_type": "stream",
          "text": [
            "[[ 0.  1.]\n",
            " [-1.  0.]]\n"
          ]
        }
      ],
      "source": [
        "a=array([[0.0,1.0],[-1.0,0.0]])\n",
        "print(a)"
      ]
    },
    {
      "cell_type": "code",
      "execution_count": null,
      "metadata": {
        "id": "uR6QgjN96ZTO",
        "outputId": "684806c7-3e1e-4c68-b781-7844ce0d2653"
      },
      "outputs": [
        {
          "data": {
            "text/plain": [
              "2"
            ]
          },
          "execution_count": 73,
          "metadata": {},
          "output_type": "execute_result"
        }
      ],
      "source": [
        "a.ndim"
      ]
    },
    {
      "cell_type": "code",
      "execution_count": null,
      "metadata": {
        "id": "lvgVnMy76ZTO",
        "outputId": "b1ed1765-4d6d-4df6-e615-263bf7e0e94f"
      },
      "outputs": [
        {
          "data": {
            "text/plain": [
              "(2, 2)"
            ]
          },
          "execution_count": 74,
          "metadata": {},
          "output_type": "execute_result"
        }
      ],
      "source": [
        "a.shape"
      ]
    },
    {
      "cell_type": "code",
      "execution_count": null,
      "metadata": {
        "id": "eFzRT2NU6ZTO",
        "outputId": "7e577129-e81f-47e1-b9ec-1fbfca7e7163"
      },
      "outputs": [
        {
          "data": {
            "text/plain": [
              "(2, 4)"
            ]
          },
          "execution_count": 75,
          "metadata": {},
          "output_type": "execute_result"
        }
      ],
      "source": [
        "len(a),a.size"
      ]
    },
    {
      "cell_type": "code",
      "execution_count": null,
      "metadata": {
        "id": "cxbZcbAy6ZTO",
        "outputId": "b3e2a5cc-0570-4987-bbcc-b93f49462a6c"
      },
      "outputs": [
        {
          "data": {
            "text/plain": [
              "-1.0"
            ]
          },
          "execution_count": 76,
          "metadata": {},
          "output_type": "execute_result"
        }
      ],
      "source": [
        "a[1,0]"
      ]
    },
    {
      "cell_type": "markdown",
      "metadata": {
        "id": "GyNRr9PM6ZTO"
      },
      "source": [
        "Атрибуту `shape` можно присвоить новое значение - кортеж размеров по всем координатам. Получится новый заголовок массива; его данные не изменятся."
      ]
    },
    {
      "cell_type": "code",
      "execution_count": null,
      "metadata": {
        "id": "ZE3v0iSK6ZTO",
        "outputId": "4a32c310-e9cd-4cea-def6-419fb2a62fc2"
      },
      "outputs": [
        {
          "name": "stdout",
          "output_type": "stream",
          "text": [
            "[ 0.  1.  2.  3.]\n"
          ]
        }
      ],
      "source": [
        "b=linspace(0,3,4)\n",
        "print(b)"
      ]
    },
    {
      "cell_type": "code",
      "execution_count": null,
      "metadata": {
        "id": "_i5_3Wzi6ZTP",
        "outputId": "c9541f65-ecc5-413d-abeb-bcd9b0fc6255"
      },
      "outputs": [
        {
          "data": {
            "text/plain": [
              "(4,)"
            ]
          },
          "execution_count": 78,
          "metadata": {},
          "output_type": "execute_result"
        }
      ],
      "source": [
        "b.shape"
      ]
    },
    {
      "cell_type": "code",
      "execution_count": null,
      "metadata": {
        "id": "cnQmCRw16ZTP",
        "outputId": "8c8332ec-6475-4967-d5fa-61c8f5a68269"
      },
      "outputs": [
        {
          "name": "stdout",
          "output_type": "stream",
          "text": [
            "[[ 0.  1.]\n",
            " [ 2.  3.]]\n"
          ]
        }
      ],
      "source": [
        "b.shape=2,2\n",
        "print(b)"
      ]
    },
    {
      "cell_type": "markdown",
      "metadata": {
        "id": "sqNtmN9G6ZTP"
      },
      "source": [
        "Поэлементное и матричное умножение."
      ]
    },
    {
      "cell_type": "code",
      "execution_count": null,
      "metadata": {
        "id": "xnc9W2tE6ZTP",
        "outputId": "68342b96-50a1-4ff4-dd60-f6c6669572b2"
      },
      "outputs": [
        {
          "name": "stdout",
          "output_type": "stream",
          "text": [
            "[[ 0.  1.]\n",
            " [-2.  0.]]\n"
          ]
        }
      ],
      "source": [
        "print(a*b)"
      ]
    },
    {
      "cell_type": "code",
      "execution_count": null,
      "metadata": {
        "id": "_WwkXt0B6ZTQ",
        "outputId": "09b0677d-87c7-423d-95d6-3845b0abd263"
      },
      "outputs": [
        {
          "name": "stdout",
          "output_type": "stream",
          "text": [
            "[[ 2.  3.]\n",
            " [ 0. -1.]]\n"
          ]
        }
      ],
      "source": [
        "print(a@b)"
      ]
    },
    {
      "cell_type": "code",
      "execution_count": null,
      "metadata": {
        "id": "JmMim3MZ6ZTQ",
        "outputId": "25b219a7-de2f-42dd-ecb3-d94f5b31d64f"
      },
      "outputs": [
        {
          "name": "stdout",
          "output_type": "stream",
          "text": [
            "[[-1.  0.]\n",
            " [-3.  2.]]\n"
          ]
        }
      ],
      "source": [
        "print(b@a)"
      ]
    },
    {
      "cell_type": "markdown",
      "metadata": {
        "id": "EroDflak6ZTQ"
      },
      "source": [
        "Умножение матрицы на вектор."
      ]
    },
    {
      "cell_type": "code",
      "execution_count": null,
      "metadata": {
        "id": "e034cjqR6ZTQ",
        "outputId": "f907d154-1559-4848-c5a1-bfc050e2fc08"
      },
      "outputs": [
        {
          "name": "stdout",
          "output_type": "stream",
          "text": [
            "[-1. -1.]\n"
          ]
        }
      ],
      "source": [
        "v=array([1,-1],dtype=float64)\n",
        "print(b@v)"
      ]
    },
    {
      "cell_type": "code",
      "execution_count": null,
      "metadata": {
        "id": "rpi_hg3c6ZTQ",
        "outputId": "ba79be3f-8ee4-4471-8182-fe403e9d952e"
      },
      "outputs": [
        {
          "name": "stdout",
          "output_type": "stream",
          "text": [
            "[-2. -2.]\n"
          ]
        }
      ],
      "source": [
        "print(v@b)"
      ]
    },
    {
      "cell_type": "markdown",
      "metadata": {
        "id": "zO_tIX-76ZTQ"
      },
      "source": [
        "Внешнее произведение $a_{ij}=u_i v_j$"
      ]
    },
    {
      "cell_type": "code",
      "execution_count": null,
      "metadata": {
        "id": "db_DVIHs6ZTR",
        "outputId": "6be6bec5-b895-4214-e40e-b4b5da8b14dd"
      },
      "outputs": [
        {
          "name": "stdout",
          "output_type": "stream",
          "text": [
            "[ 1.  2.]\n",
            "[ 2.  3.  4.]\n"
          ]
        }
      ],
      "source": [
        "u=linspace(1,2,2)\n",
        "v=linspace(2,4,3)\n",
        "print(u)\n",
        "print(v)"
      ]
    },
    {
      "cell_type": "code",
      "execution_count": null,
      "metadata": {
        "id": "h9QCbTb96ZTR",
        "outputId": "13007912-36e8-4440-9756-3d1eda15fcba"
      },
      "outputs": [
        {
          "name": "stdout",
          "output_type": "stream",
          "text": [
            "[[ 2.  3.  4.]\n",
            " [ 4.  6.  8.]]\n"
          ]
        }
      ],
      "source": [
        "a=outer(u,v)\n",
        "print(a)"
      ]
    },
    {
      "cell_type": "markdown",
      "metadata": {
        "id": "yzMUN-Fb6ZTR"
      },
      "source": [
        "Двумерные массивы, зависящие только от одного индекса: $x_{ij}=u_j$, $y_{ij}=v_i$"
      ]
    },
    {
      "cell_type": "code",
      "execution_count": null,
      "metadata": {
        "id": "G5TEM5JW6ZTR",
        "outputId": "e60eae54-e7b9-471a-ed6c-c60ca59e3b8e"
      },
      "outputs": [
        {
          "name": "stdout",
          "output_type": "stream",
          "text": [
            "[[ 1.  2.]\n",
            " [ 1.  2.]\n",
            " [ 1.  2.]]\n",
            "[[ 2.  2.]\n",
            " [ 3.  3.]\n",
            " [ 4.  4.]]\n"
          ]
        }
      ],
      "source": [
        "x,y=meshgrid(u,v)\n",
        "print(x)\n",
        "print(y)"
      ]
    },
    {
      "cell_type": "markdown",
      "metadata": {
        "id": "KKQVoFjT6ZTR"
      },
      "source": [
        "Единичная матрица."
      ]
    },
    {
      "cell_type": "code",
      "execution_count": null,
      "metadata": {
        "id": "O65rmcxC6ZTS",
        "outputId": "8fc8fc79-8514-4238-ceb3-648118eb0aaa"
      },
      "outputs": [
        {
          "name": "stdout",
          "output_type": "stream",
          "text": [
            "[[ 1.  0.  0.  0.]\n",
            " [ 0.  1.  0.  0.]\n",
            " [ 0.  0.  1.  0.]\n",
            " [ 0.  0.  0.  1.]]\n"
          ]
        }
      ],
      "source": [
        "I=eye(4)\n",
        "print(I)"
      ]
    },
    {
      "cell_type": "markdown",
      "metadata": {
        "id": "p1BYFecz6ZTT"
      },
      "source": [
        "Метод `reshape` делает то же самое, что присваивание атрибуту `shape`."
      ]
    },
    {
      "cell_type": "code",
      "execution_count": null,
      "metadata": {
        "id": "l_ptSHZt6ZTT",
        "outputId": "6e4c84c6-4505-4b05-871b-666a1ae3f765"
      },
      "outputs": [
        {
          "name": "stdout",
          "output_type": "stream",
          "text": [
            "[ 1.  0.  0.  0.  0.  1.  0.  0.  0.  0.  1.  0.  0.  0.  0.  1.]\n"
          ]
        }
      ],
      "source": [
        "print(I.reshape(16))"
      ]
    },
    {
      "cell_type": "code",
      "execution_count": null,
      "metadata": {
        "id": "Lc1dZot26ZTU",
        "outputId": "8d4b4a94-4e9f-4500-a5e8-af07979208ff"
      },
      "outputs": [
        {
          "name": "stdout",
          "output_type": "stream",
          "text": [
            "[[ 1.  0.  0.  0.  0.  1.  0.  0.]\n",
            " [ 0.  0.  1.  0.  0.  0.  0.  1.]]\n"
          ]
        }
      ],
      "source": [
        "print(I.reshape(2,8))"
      ]
    },
    {
      "cell_type": "markdown",
      "metadata": {
        "id": "z_Ij-Efm6ZTU"
      },
      "source": [
        "Строка."
      ]
    },
    {
      "cell_type": "code",
      "execution_count": null,
      "metadata": {
        "id": "i1XrU7hQ6ZTU",
        "outputId": "25e7de76-ac96-4aea-d4a7-2b478345986d"
      },
      "outputs": [
        {
          "name": "stdout",
          "output_type": "stream",
          "text": [
            "[ 0.  1.  0.  0.]\n"
          ]
        }
      ],
      "source": [
        "print(I[1])"
      ]
    },
    {
      "cell_type": "markdown",
      "metadata": {
        "id": "XvTSeZS96ZTU"
      },
      "source": [
        "Цикл по строкам."
      ]
    },
    {
      "cell_type": "code",
      "execution_count": null,
      "metadata": {
        "id": "e1C8xJAF6ZTU",
        "outputId": "4b84239f-70f2-430c-8daf-59c1e04d55d6"
      },
      "outputs": [
        {
          "name": "stdout",
          "output_type": "stream",
          "text": [
            "[ 1.  0.  0.  0.]\n",
            "[ 0.  1.  0.  0.]\n",
            "[ 0.  0.  1.  0.]\n",
            "[ 0.  0.  0.  1.]\n"
          ]
        }
      ],
      "source": [
        "for row in I:\n",
        "    print(row)"
      ]
    },
    {
      "cell_type": "markdown",
      "metadata": {
        "id": "wXbYPlT36ZTU"
      },
      "source": [
        "Столбец."
      ]
    },
    {
      "cell_type": "code",
      "execution_count": null,
      "metadata": {
        "id": "-s8pTiZ46ZTU",
        "outputId": "b5f79fe2-a8f0-468f-e3d5-53242a60fea7"
      },
      "outputs": [
        {
          "name": "stdout",
          "output_type": "stream",
          "text": [
            "[ 0.  0.  1.  0.]\n"
          ]
        }
      ],
      "source": [
        "print(I[:,2])"
      ]
    },
    {
      "cell_type": "markdown",
      "metadata": {
        "id": "iYZAVE386ZTV"
      },
      "source": [
        "Подматрица."
      ]
    },
    {
      "cell_type": "code",
      "execution_count": null,
      "metadata": {
        "id": "sUPj3i_76ZTV",
        "outputId": "d28d9203-6376-498d-a27a-16f5c665cec8"
      },
      "outputs": [
        {
          "name": "stdout",
          "output_type": "stream",
          "text": [
            "[[ 0.  0.]\n",
            " [ 1.  0.]]\n"
          ]
        }
      ],
      "source": [
        "print(I[0:2,1:3])"
      ]
    },
    {
      "cell_type": "markdown",
      "metadata": {
        "id": "KBFmSnZb6ZTV"
      },
      "source": [
        "Можно построить двумерный массив из функции."
      ]
    },
    {
      "cell_type": "code",
      "execution_count": null,
      "metadata": {
        "id": "aK9oel8J6ZTV",
        "outputId": "e1ac3c1b-6afe-4008-accf-fa3a468ec3b6"
      },
      "outputs": [
        {
          "name": "stdout",
          "output_type": "stream",
          "text": [
            "[[0 0 0 0]\n",
            " [1 1 1 1]\n",
            " [2 2 2 2]\n",
            " [3 3 3 3]]\n",
            "[[0 1 2 3]\n",
            " [0 1 2 3]\n",
            " [0 1 2 3]\n",
            " [0 1 2 3]]\n",
            "[[ 0  1  2  3]\n",
            " [10 11 12 13]\n",
            " [20 21 22 23]\n",
            " [30 31 32 33]]\n"
          ]
        }
      ],
      "source": [
        "def f(i,j):\n",
        "    print(i)\n",
        "    print(j)\n",
        "    return 10*i+j\n",
        "print(fromfunction(f,(4,4),dtype=int64))"
      ]
    },
    {
      "cell_type": "markdown",
      "metadata": {
        "id": "bBi5DS2l6ZTV"
      },
      "source": [
        "Транспонированная матрица."
      ]
    },
    {
      "cell_type": "code",
      "execution_count": null,
      "metadata": {
        "id": "A5Ixbk4y6ZTV",
        "outputId": "2e654508-0744-4ffe-cb39-e4b8d89daf4c"
      },
      "outputs": [
        {
          "name": "stdout",
          "output_type": "stream",
          "text": [
            "[[ 0.  2.]\n",
            " [ 1.  3.]]\n"
          ]
        }
      ],
      "source": [
        "print(b.T)"
      ]
    },
    {
      "cell_type": "markdown",
      "metadata": {
        "id": "CDxdUh246ZTW"
      },
      "source": [
        "Соединение матриц по горизонтали и по вертикали."
      ]
    },
    {
      "cell_type": "code",
      "execution_count": null,
      "metadata": {
        "id": "vVo0qmT16ZTW",
        "outputId": "e0fc1b44-07fc-40fb-a570-4268b2127349"
      },
      "outputs": [
        {
          "name": "stdout",
          "output_type": "stream",
          "text": [
            "[[0 1]\n",
            " [2 3]]\n",
            "[[4 5 6]\n",
            " [7 8 9]]\n",
            "[[4 5]\n",
            " [6 7]\n",
            " [8 9]]\n"
          ]
        }
      ],
      "source": [
        "a=array([[0,1],[2,3]])\n",
        "b=array([[4,5,6],[7,8,9]])\n",
        "c=array([[4,5],[6,7],[8,9]])\n",
        "print(a)\n",
        "print(b)\n",
        "print(c)"
      ]
    },
    {
      "cell_type": "code",
      "execution_count": null,
      "metadata": {
        "id": "k-KqCcGr6ZTW",
        "outputId": "2624c2e7-0c8f-4ade-e9c7-33347abd299b"
      },
      "outputs": [
        {
          "name": "stdout",
          "output_type": "stream",
          "text": [
            "[[0 1 4 5 6]\n",
            " [2 3 7 8 9]]\n"
          ]
        }
      ],
      "source": [
        "print(hstack((a,b)))"
      ]
    },
    {
      "cell_type": "code",
      "execution_count": null,
      "metadata": {
        "id": "IQhBs3yG6ZTW",
        "outputId": "d9a59541-bfdc-44c1-8298-8947d7657d15"
      },
      "outputs": [
        {
          "name": "stdout",
          "output_type": "stream",
          "text": [
            "[[0 1]\n",
            " [2 3]\n",
            " [4 5]\n",
            " [6 7]\n",
            " [8 9]]\n"
          ]
        }
      ],
      "source": [
        "print(vstack((a,c)))"
      ]
    },
    {
      "cell_type": "markdown",
      "metadata": {
        "id": "MJYwjPor6ZTW"
      },
      "source": [
        "Сумма всех элементов; суммы столбцов; суммы строк."
      ]
    },
    {
      "cell_type": "code",
      "execution_count": null,
      "metadata": {
        "id": "HKiOYhGy6ZTW",
        "outputId": "469022e1-e441-4ef4-cfa0-e18701d46b86"
      },
      "outputs": [
        {
          "name": "stdout",
          "output_type": "stream",
          "text": [
            "39\n",
            "[11 13 15]\n",
            "[15 24]\n"
          ]
        }
      ],
      "source": [
        "print(b.sum())\n",
        "print(b.sum(0))\n",
        "print(b.sum(1))"
      ]
    },
    {
      "cell_type": "markdown",
      "metadata": {
        "id": "Ms4131kU6ZTX"
      },
      "source": [
        "Аналогично работают `prod`, `max`, `min` и т.д."
      ]
    },
    {
      "cell_type": "code",
      "execution_count": null,
      "metadata": {
        "id": "D6GhQ8yO6ZTX",
        "outputId": "6d65cbf0-721e-4970-ca1b-55c46b6d4386"
      },
      "outputs": [
        {
          "name": "stdout",
          "output_type": "stream",
          "text": [
            "[7 8 9]\n",
            "[4 7]\n"
          ]
        }
      ],
      "source": [
        "print(b.max(0))\n",
        "print(b.min(1))"
      ]
    },
    {
      "cell_type": "markdown",
      "metadata": {
        "id": "GEB1K3m_6ZTX"
      },
      "source": [
        "След - сумма диагональных элементов."
      ]
    },
    {
      "cell_type": "code",
      "execution_count": null,
      "metadata": {
        "id": "i30EiNpx6ZTX",
        "outputId": "4ee906c2-7224-4440-f49b-d15ddd96da35"
      },
      "outputs": [
        {
          "data": {
            "text/plain": [
              "3"
            ]
          },
          "execution_count": 102,
          "metadata": {},
          "output_type": "execute_result"
        }
      ],
      "source": [
        "trace(a)"
      ]
    },
    {
      "cell_type": "markdown",
      "metadata": {
        "id": "72yPPQmL6ZTX"
      },
      "source": [
        "## Линейная алгебра"
      ]
    },
    {
      "cell_type": "code",
      "execution_count": null,
      "metadata": {
        "id": "zAJ8Q4K96ZTX",
        "outputId": "048bf73f-ed84-40c4-f7f9-fb883394081b"
      },
      "outputs": [
        {
          "data": {
            "text/plain": [
              "-2.0"
            ]
          },
          "execution_count": 103,
          "metadata": {},
          "output_type": "execute_result"
        }
      ],
      "source": [
        "from numpy.linalg import det,inv,solve,eig\n",
        "det(a)"
      ]
    },
    {
      "cell_type": "markdown",
      "metadata": {
        "id": "XzUz-hgv6ZTX"
      },
      "source": [
        "Обратная матрица."
      ]
    },
    {
      "cell_type": "code",
      "execution_count": null,
      "metadata": {
        "id": "UdCR7GLx6ZTY",
        "outputId": "c546960c-ce35-4d48-f90f-623149cdd8a5"
      },
      "outputs": [
        {
          "name": "stdout",
          "output_type": "stream",
          "text": [
            "[[-1.5  0.5]\n",
            " [ 1.   0. ]]\n"
          ]
        }
      ],
      "source": [
        "a1=inv(a)\n",
        "print(a1)"
      ]
    },
    {
      "cell_type": "code",
      "execution_count": null,
      "metadata": {
        "id": "OsHEnzA46ZTY",
        "outputId": "aaca5487-d1c6-43bd-f41d-3be52607c42e"
      },
      "outputs": [
        {
          "name": "stdout",
          "output_type": "stream",
          "text": [
            "[[ 1.  0.]\n",
            " [ 0.  1.]]\n",
            "[[ 1.  0.]\n",
            " [ 0.  1.]]\n"
          ]
        }
      ],
      "source": [
        "print(a@a1)\n",
        "print(a1@a)"
      ]
    },
    {
      "cell_type": "markdown",
      "metadata": {
        "id": "E-kTSH2t6ZTY"
      },
      "source": [
        "Решение линейной системы $au=v$."
      ]
    },
    {
      "cell_type": "code",
      "execution_count": null,
      "metadata": {
        "id": "E9LyuxAE6ZTY",
        "outputId": "6d322033-8a94-4d2e-f8c0-bfa317bf3cab"
      },
      "outputs": [
        {
          "name": "stdout",
          "output_type": "stream",
          "text": [
            "[ 0.5  0. ]\n"
          ]
        }
      ],
      "source": [
        "v=array([0,1],dtype=float64)\n",
        "print(a1@v)"
      ]
    },
    {
      "cell_type": "code",
      "execution_count": null,
      "metadata": {
        "id": "pnc1RUYL6ZTY",
        "outputId": "77fa9757-f080-4e34-f120-7b25535d8679"
      },
      "outputs": [
        {
          "name": "stdout",
          "output_type": "stream",
          "text": [
            "[ 0.5  0. ]\n"
          ]
        }
      ],
      "source": [
        "u=solve(a,v)\n",
        "print(u)"
      ]
    },
    {
      "cell_type": "markdown",
      "metadata": {
        "id": "HZhIP2n86ZTZ"
      },
      "source": [
        "Проверим."
      ]
    },
    {
      "cell_type": "code",
      "execution_count": null,
      "metadata": {
        "id": "gFktchcd6ZTZ",
        "outputId": "a00b5e25-d621-45e8-85d3-b663364075a5"
      },
      "outputs": [
        {
          "name": "stdout",
          "output_type": "stream",
          "text": [
            "[ 0.  0.]\n"
          ]
        }
      ],
      "source": [
        "print(a@u-v)"
      ]
    },
    {
      "cell_type": "markdown",
      "metadata": {
        "id": "taqxHq4l6ZTZ"
      },
      "source": [
        "Собственные значения и собственные векторы: $a u_i = \\lambda_i u_i$. `l` - одномерный массив собственных значений $\\lambda_i$, столбцы матрицы $u$ - собственные векторы $u_i$."
      ]
    },
    {
      "cell_type": "code",
      "execution_count": null,
      "metadata": {
        "id": "mXOzwmGQ6ZTZ",
        "outputId": "1bbc4a1b-797c-4a58-c641-134b5afd219d"
      },
      "outputs": [
        {
          "name": "stdout",
          "output_type": "stream",
          "text": [
            "[-0.56155281  3.56155281]\n"
          ]
        }
      ],
      "source": [
        "l,u=eig(a)\n",
        "print(l)"
      ]
    },
    {
      "cell_type": "code",
      "execution_count": null,
      "metadata": {
        "id": "qmYU03a06ZTZ",
        "outputId": "94804d7f-b591-40d6-8051-39eb8f27694f"
      },
      "outputs": [
        {
          "name": "stdout",
          "output_type": "stream",
          "text": [
            "[[-0.87192821 -0.27032301]\n",
            " [ 0.48963374 -0.96276969]]\n"
          ]
        }
      ],
      "source": [
        "print(u)"
      ]
    },
    {
      "cell_type": "markdown",
      "metadata": {
        "id": "m4BlhJIM6ZTZ"
      },
      "source": [
        "Проверим."
      ]
    },
    {
      "cell_type": "code",
      "execution_count": null,
      "metadata": {
        "id": "pveUMK7y6ZTZ",
        "outputId": "286ccf6c-1b96-4f8e-8172-751eaf97169f"
      },
      "outputs": [
        {
          "name": "stdout",
          "output_type": "stream",
          "text": [
            "[  0.00000000e+00   1.66533454e-16]\n",
            "[  1.11022302e-16   0.00000000e+00]\n"
          ]
        }
      ],
      "source": [
        "for i in range(2):\n",
        "    print(a@u[:,i]-l[i]*u[:,i])"
      ]
    },
    {
      "cell_type": "markdown",
      "metadata": {
        "id": "wq5bI-8M6ZTa"
      },
      "source": [
        "Функция `diag` от одномерного массива строит диагональную матрицу; от квадратной матрицы - возвращает одномерный массив её диагональных элементов."
      ]
    },
    {
      "cell_type": "code",
      "execution_count": null,
      "metadata": {
        "id": "P8_ZHcEg6ZTa",
        "outputId": "14b16da1-b6bb-4e60-a852-db5639961af1"
      },
      "outputs": [
        {
          "name": "stdout",
          "output_type": "stream",
          "text": [
            "[[-0.56155281  0.        ]\n",
            " [ 0.          3.56155281]]\n",
            "[-0.56155281  3.56155281]\n"
          ]
        }
      ],
      "source": [
        "L=diag(l)\n",
        "print(L)\n",
        "print(diag(L))"
      ]
    },
    {
      "cell_type": "markdown",
      "metadata": {
        "id": "8BDVkXeM6ZTa"
      },
      "source": [
        "Все уравнения $a u_i = \\lambda_i u_i$ можно собрать в одно матричное уравнение $a u = u \\Lambda$, где $\\Lambda$ - диагональная матрица с собственными значениями $\\lambda_i$ по диагонали."
      ]
    },
    {
      "cell_type": "code",
      "execution_count": null,
      "metadata": {
        "id": "VZ5pv7ca6ZTa",
        "outputId": "c6b7ce9e-3117-4036-874e-85e6fa92dd5a"
      },
      "outputs": [
        {
          "name": "stdout",
          "output_type": "stream",
          "text": [
            "[[  0.00000000e+00   1.11022302e-16]\n",
            " [  1.66533454e-16   0.00000000e+00]]\n"
          ]
        }
      ],
      "source": [
        "print(a@u-u@L)"
      ]
    },
    {
      "cell_type": "markdown",
      "metadata": {
        "id": "-f5OZalu6ZTa"
      },
      "source": [
        "Поэтому $u^{-1} a u = \\Lambda$."
      ]
    },
    {
      "cell_type": "code",
      "execution_count": null,
      "metadata": {
        "id": "r1CGVaX06ZTa",
        "outputId": "e780ed5c-6a92-49da-901b-8ea3855c185e"
      },
      "outputs": [
        {
          "name": "stdout",
          "output_type": "stream",
          "text": [
            "[[ -5.61552813e-01   0.00000000e+00]\n",
            " [ -2.22044605e-16   3.56155281e+00]]\n"
          ]
        }
      ],
      "source": [
        "print(inv(u)@a@u)"
      ]
    },
    {
      "cell_type": "markdown",
      "metadata": {
        "id": "BY2kaAV46ZTa"
      },
      "source": [
        "Найдём теперь левые собственные векторы $v_i a = \\lambda_i v_i$ (собственные значения $\\lambda_i$ те же самые)."
      ]
    },
    {
      "cell_type": "code",
      "execution_count": null,
      "metadata": {
        "id": "-rSSo1DL6ZTa",
        "outputId": "e88fea0b-785a-44cf-b4a7-ea42c5736743"
      },
      "outputs": [
        {
          "name": "stdout",
          "output_type": "stream",
          "text": [
            "[-0.56155281  3.56155281]\n",
            "[[-0.96276969 -0.48963374]\n",
            " [ 0.27032301 -0.87192821]]\n"
          ]
        }
      ],
      "source": [
        "l,v=eig(a.T)\n",
        "print(l)\n",
        "print(v)"
      ]
    },
    {
      "cell_type": "markdown",
      "metadata": {
        "id": "5gdaGIu66ZTb"
      },
      "source": [
        "Собственные векторы нормированы на 1."
      ]
    },
    {
      "cell_type": "code",
      "execution_count": null,
      "metadata": {
        "id": "8vDQFqo76ZTb",
        "outputId": "dbabcfae-fe64-4b82-afe3-c3375922bf1a"
      },
      "outputs": [
        {
          "name": "stdout",
          "output_type": "stream",
          "text": [
            "[[ 1.         -0.23570226]\n",
            " [-0.23570226  1.        ]]\n",
            "[[ 1.          0.23570226]\n",
            " [ 0.23570226  1.        ]]\n"
          ]
        }
      ],
      "source": [
        "print(u.T@u)\n",
        "print(v.T@v)"
      ]
    },
    {
      "cell_type": "markdown",
      "metadata": {
        "id": "PR7R371L6ZTb"
      },
      "source": [
        "Левые и правые собственные векторы, соответствующие разным собственным значениям, ортогональны, потому что $v_i a u_j = \\lambda_i v_i u_j = \\lambda_j v_i u_j$."
      ]
    },
    {
      "cell_type": "code",
      "execution_count": null,
      "metadata": {
        "id": "ZPuGRhLW6ZTb",
        "outputId": "d61fa537-b497-4f68-89bf-b57a18411f58"
      },
      "outputs": [
        {
          "name": "stdout",
          "output_type": "stream",
          "text": [
            "[[  9.71825316e-01   0.00000000e+00]\n",
            " [ -5.55111512e-17   9.71825316e-01]]\n"
          ]
        }
      ],
      "source": [
        "print(v.T@u)"
      ]
    },
    {
      "cell_type": "markdown",
      "metadata": {
        "id": "Jdq_Y50S6ZTb"
      },
      "source": [
        "## Преобразование Фурье"
      ]
    },
    {
      "cell_type": "code",
      "execution_count": null,
      "metadata": {
        "id": "HmkwsDJn6ZTb",
        "outputId": "734c8b57-e9bb-45ca-aa92-818c7aa5556d"
      },
      "outputs": [
        {
          "name": "stdout",
          "output_type": "stream",
          "text": [
            "[ 0.   0.1  0.2  0.3  0.4  0.5  0.6  0.7  0.8  0.9  1. ]\n"
          ]
        }
      ],
      "source": [
        "a=linspace(0,1,11)\n",
        "print(a)"
      ]
    },
    {
      "cell_type": "code",
      "execution_count": null,
      "metadata": {
        "id": "BIZod8T96ZTc",
        "outputId": "50afb73e-1e49-4799-ea28-263a0111797a"
      },
      "outputs": [
        {
          "name": "stdout",
          "output_type": "stream",
          "text": [
            "[ 5.50+0.j         -0.55+1.87312798j -0.55+0.85581671j -0.55+0.47657771j\n",
            " -0.55+0.25117658j -0.55+0.07907806j -0.55-0.07907806j -0.55-0.25117658j\n",
            " -0.55-0.47657771j -0.55-0.85581671j -0.55-1.87312798j]\n"
          ]
        }
      ],
      "source": [
        "from numpy.fft import fft,ifft\n",
        "b=fft(a)\n",
        "print(b)"
      ]
    },
    {
      "cell_type": "markdown",
      "metadata": {
        "id": "Hb-b5UQL6ZTc"
      },
      "source": [
        "Обратное преобразование Фурье."
      ]
    },
    {
      "cell_type": "code",
      "execution_count": null,
      "metadata": {
        "id": "xv3pB5cU6ZTc",
        "outputId": "b20cfb5a-e72e-48f9-9695-e3798f7b2b29"
      },
      "outputs": [
        {
          "name": "stdout",
          "output_type": "stream",
          "text": [
            "[  1.61486985e-15+0.j   1.00000000e-01+0.j   2.00000000e-01+0.j\n",
            "   3.00000000e-01+0.j   4.00000000e-01+0.j   5.00000000e-01+0.j\n",
            "   6.00000000e-01+0.j   7.00000000e-01+0.j   8.00000000e-01+0.j\n",
            "   9.00000000e-01+0.j   1.00000000e+00+0.j]\n"
          ]
        }
      ],
      "source": [
        "print(ifft(b))"
      ]
    },
    {
      "cell_type": "markdown",
      "metadata": {
        "id": "A3uwdtGi6ZTc"
      },
      "source": [
        "## Интегрирование"
      ]
    },
    {
      "cell_type": "code",
      "execution_count": null,
      "metadata": {
        "collapsed": true,
        "id": "rT3ju8xz6ZTc"
      },
      "outputs": [],
      "source": [
        "from scipy.integrate import quad,odeint\n",
        "from scipy.special import erf"
      ]
    },
    {
      "cell_type": "code",
      "execution_count": null,
      "metadata": {
        "id": "xEHITfge6ZTc"
      },
      "outputs": [],
      "source": [
        "def f(x):\n",
        "    return exp(-x**2)"
      ]
    },
    {
      "cell_type": "markdown",
      "metadata": {
        "id": "F9-FSyp86ZTd"
      },
      "source": [
        "Адаптивное численное интегрирование (может быть до бесконечности). `err` - оценка ошибки."
      ]
    },
    {
      "cell_type": "code",
      "execution_count": null,
      "metadata": {
        "id": "-6etqFha6ZTd",
        "outputId": "b09f8bd4-8a7e-44a9-938f-616214a2e87a"
      },
      "outputs": [
        {
          "name": "stdout",
          "output_type": "stream",
          "text": [
            "0.886226925453 0.8862269254527579 7.101318390472462e-09\n"
          ]
        }
      ],
      "source": [
        "res,err=quad(f,0,inf)\n",
        "print(sqrt(pi)/2,res,err)"
      ]
    },
    {
      "cell_type": "code",
      "execution_count": null,
      "metadata": {
        "id": "5-tYqAmd6ZTd",
        "outputId": "d1d699ed-484b-4ca7-f1a9-5c36a333a5f7"
      },
      "outputs": [
        {
          "name": "stdout",
          "output_type": "stream",
          "text": [
            "0.746824132812 0.7468241328124271 8.291413475940725e-15\n"
          ]
        }
      ],
      "source": [
        "res,err=quad(f,0,1)\n",
        "print(sqrt(pi)/2*erf(1),res,err)"
      ]
    },
    {
      "cell_type": "markdown",
      "metadata": {
        "id": "qhioPOE56ZTd"
      },
      "source": [
        "## Дифференциальные уравнения"
      ]
    },
    {
      "cell_type": "markdown",
      "metadata": {
        "id": "1QYZu3Zj6ZTd"
      },
      "source": [
        "Уравнение осциллятора с затуханием $\\ddot{x} + 2 a \\dot{x} + x = 0$. Перепишем его в виде системы уравнений первого порядка для $x$, $v=\\dot{x}$:\n",
        "\n",
        "$\\frac{d}{dt} \\begin{pmatrix}x\\\\v\\end{pmatrix} = \\begin{pmatrix}v\\\\-2av-x\\end{pmatrix}$\n",
        "\n",
        "Решим эту систему численно при $a=0.2$ с начальным условием\n",
        "$\\begin{pmatrix}x\\\\v\\end{pmatrix}=\\begin{pmatrix}1\\\\0\\end{pmatrix}$"
      ]
    },
    {
      "cell_type": "code",
      "execution_count": null,
      "metadata": {
        "collapsed": true,
        "id": "GE5ldYuw6ZTd"
      },
      "outputs": [],
      "source": [
        "a=0.2\n",
        "def f(x,t):\n",
        "    global a\n",
        "    return [x[1],-x[0]-2*a*x[1]]"
      ]
    },
    {
      "cell_type": "code",
      "execution_count": null,
      "metadata": {
        "collapsed": true,
        "id": "lyLITUiU6ZTd"
      },
      "outputs": [],
      "source": [
        "t=linspace(0,10,1000)\n",
        "x=odeint(f,[1,0],t)"
      ]
    },
    {
      "cell_type": "markdown",
      "metadata": {
        "id": "YnA5-J6j6ZTd"
      },
      "source": [
        "Графики координаты и скорости."
      ]
    },
    {
      "cell_type": "code",
      "execution_count": null,
      "metadata": {
        "id": "At5piPxe6ZTe",
        "outputId": "201de82d-5418-4020-b7ef-a0c35319f949"
      },
      "outputs": [
        {
          "data": {
            "text/plain": [
              "[<matplotlib.lines.Line2D at 0x7f2fade9a6d8>,\n",
              " <matplotlib.lines.Line2D at 0x7f2fade9a8d0>]"
            ]
          },
          "execution_count": 127,
          "metadata": {},
          "output_type": "execute_result"
        },
        {
          "data": {
            "image/png": "[encoded data removed]",
            "text/plain": [
              "<matplotlib.figure.Figure at 0x7f2fb8068860>"
            ]
          },
          "metadata": {},
          "output_type": "display_data"
        }
      ],
      "source": [
        "from matplotlib.pyplot import plot\n",
        "%matplotlib inline\n",
        "plot(t,x)"
      ]
    },
    {
      "cell_type": "markdown",
      "metadata": {
        "id": "6WIfIzUj6ZTe"
      },
      "source": [
        "Точное решение для координаты."
      ]
    },
    {
      "cell_type": "code",
      "execution_count": null,
      "metadata": {
        "id": "0E7rBDFQ6ZTe"
      },
      "outputs": [],
      "source": [
        "b=sqrt(1-a**2)\n",
        "x0=exp(-a*t)*(cos(b*t)+a/b*sin(b*t))"
      ]
    },
    {
      "cell_type": "markdown",
      "metadata": {
        "id": "xxMixIKv6ZTe"
      },
      "source": [
        "Максимальное отличие численного решения от точного."
      ]
    },
    {
      "cell_type": "code",
      "execution_count": null,
      "metadata": {
        "id": "vCAYyu186ZTe",
        "outputId": "c59ab8ce-7156-4df6-bee6-e4096f17badd"
      },
      "outputs": [
        {
          "data": {
            "text/plain": [
              "7.4104573116740013e-08"
            ]
          },
          "execution_count": 129,
          "metadata": {},
          "output_type": "execute_result"
        }
      ],
      "source": [
        "abs(x[:,0]-x0).max()"
      ]
    },
    {
      "cell_type": "markdown",
      "source": [
        "# Практика\n",
        "1) Создать массив из 10 случайных целых чисел от 1 до 100."
      ],
      "metadata": {
        "id": "P0tH1BZoU2H8"
      }
    },
    {
      "cell_type": "markdown",
      "source": [],
      "metadata": {
        "id": "00eng1wfVTW5"
      }
    },
    {
      "cell_type": "code",
      "source": [
        "\n",
        "import random\n",
        "\n",
        "array = []\n",
        "for i in range(10):\n",
        "    array.append(random.randint(1, 100))\n",
        "print(array)\n",
        "\n"
      ],
      "metadata": {
        "id": "FsFhioyJU2H9"
      },
      "execution_count": null,
      "outputs": []
    },
    {
      "cell_type": "markdown",
      "source": [
        "2) Создать двумерный массив размером 3x3, заполненный нулями."
      ],
      "metadata": {
        "id": "3Zrpb60QU2H9"
      }
    },
    {
      "cell_type": "code",
      "source": [
        "\n",
        "array = [[0 for i in range(3)] for j in range(3)]\n",
        "for row in array:\n",
        "    print(row)\n"
      ],
      "metadata": {
        "id": "ZvQCuJXgU2H9"
      },
      "execution_count": null,
      "outputs": []
    },
    {
      "cell_type": "markdown",
      "source": [
        "3) Создать массив из 20 равномерно распределенных чисел между 0 и 1."
      ],
      "metadata": {
        "id": "1FjRQANofJGO"
      }
    },
    {
      "cell_type": "code",
      "source": [
        "array = np.random.uniform(0, 1, 20)\n",
        "\n",
        "\n",
        "print(array)"
      ],
      "metadata": {
        "id": "xU1nce9bfTzM"
      },
      "execution_count": null,
      "outputs": []
    },
    {
      "cell_type": "markdown",
      "source": [
        "4) Создать массив из первых 10 натуральных чисел и преобразовать его в двумерный массив размером 2x5."
      ],
      "metadata": {
        "id": "xE2tm4gPfgsL"
      }
    },
    {
      "cell_type": "code",
      "source": [
        " # Создать массив из первых 10 натуральных чисел\n",
        "array = np.arange(1, 11)\n",
        "\n",
        "# Преобразовать массив в двумерный массив размером 2x5\n",
        "array = array.reshape(2, 5)\n",
        "\n",
        "# Вывести массив\n",
        "print(array)\n"
      ],
      "metadata": {
        "id": "NdOyRq4ffiqK"
      },
      "execution_count": null,
      "outputs": []
    },
    {
      "cell_type": "markdown",
      "source": [
        "5) Найти среднее значение элементов массива."
      ],
      "metadata": {
        "id": "87zNThBUfp8W"
      }
    },
    {
      "cell_type": "code",
      "source": [
        "import numpy as np\n",
        "\n",
        "# Создать массив\n",
        "array = np.array([1, 2, 3, 4, 5])\n",
        "\n",
        "# Найти среднее значение элементов массива\n",
        "mean = np.mean(array)\n",
        "\n",
        "# Вывести среднее значение\n",
        "print(mean)"
      ],
      "metadata": {
        "id": "MMTcv4Krfv4M"
      },
      "execution_count": null,
      "outputs": []
    },
    {
      "cell_type": "markdown",
      "source": [
        "6) Найти сумму элементов массива."
      ],
      "metadata": {
        "id": "1os6-xb0f0dr"
      }
    },
    {
      "cell_type": "code",
      "source": [
        "import numpy as np\n",
        "\n",
        "# Создать массив\n",
        "array = np.array([1, 2, 3, 4, 5])\n",
        "\n",
        "# Найти сумму элементов массива\n",
        "sum = np.sum(array)\n",
        "\n",
        "# Вывести сумму\n",
        "print(sum)\n"
      ],
      "metadata": {
        "id": "V42YMe_-f2PH"
      },
      "execution_count": null,
      "outputs": []
    },
    {
      "cell_type": "markdown",
      "source": [
        "7) Умножить каждый элемент массива на 2."
      ],
      "metadata": {
        "id": "M_Oum6w9f5yz"
      }
    },
    {
      "cell_type": "code",
      "source": [
        "import numpy as np\n",
        "\n",
        "# Создать массив\n",
        "array = np.array([1, 2, 3, 4, 5])\n",
        "\n",
        "# Умножить каждый элемент массива на 2\n",
        "array = array * 2\n",
        "\n",
        "# Вывести массив\n",
        "print(array)"
      ],
      "metadata": {
        "id": "XFuiBQSYf_2p"
      },
      "execution_count": null,
      "outputs": []
    },
    {
      "cell_type": "markdown",
      "source": [
        "8)\n",
        "Создать массив из чисел от 1 до 10 и преобразовать его в двумерный массив размером 5x2."
      ],
      "metadata": {
        "id": "rALkf0xKgBaW"
      }
    },
    {
      "cell_type": "code",
      "source": [
        "import numpy as np\n",
        "\n",
        "# Создать массив из чисел от 1 до 10\n",
        "array = np.arange(1, 11)\n",
        "\n",
        "# Преобразовать массив в двумерный массив размером 5x2\n",
        "array = array.reshape(5, 2)\n",
        "\n",
        "# Вывести массив\n",
        "print(array)"
      ],
      "metadata": {
        "id": "xfZOpg6EgokP"
      },
      "execution_count": null,
      "outputs": []
    },
    {
      "cell_type": "markdown",
      "source": [
        "9) Найти минимальное значение в массиве."
      ],
      "metadata": {
        "id": "jr9DAuKlgtM-"
      }
    },
    {
      "cell_type": "code",
      "source": [
        "import numpy as np\n",
        "\n",
        "# Создать массив\n",
        "array = np.array([1, 2, 3, 4, 5])\n",
        "\n",
        "# Найти минимальное значение в массиве\n",
        "min_value = np.min(array)\n",
        "\n",
        "# Вывести минимальное значение\n",
        "print(min_value)"
      ],
      "metadata": {
        "id": "PW3KPHbAgwDw"
      },
      "execution_count": null,
      "outputs": []
    },
    {
      "cell_type": "markdown",
      "source": [
        "10) Найти максимальное значение в массиве."
      ],
      "metadata": {
        "id": "pHNWO1VKgyTP"
      }
    },
    {
      "cell_type": "code",
      "source": [
        "import numpy as np\n",
        "\n",
        "# Создать массив\n",
        "array = np.array([1, 2, 3, 4, 5])\n",
        "\n",
        "# Найти максимальное значение в массиве\n",
        "max_value = np.max(array)\n",
        "\n",
        "# Вывести максимальное значение\n",
        "print(max_value)"
      ],
      "metadata": {
        "id": "fq7YgcMZg1X4"
      },
      "execution_count": null,
      "outputs": []
    },
    {
      "cell_type": "markdown",
      "source": [
        "11) Создать массив из 15 случайных чисел, отсортировать его по возрастанию."
      ],
      "metadata": {
        "id": "9ABpyXpcg3we"
      }
    },
    {
      "cell_type": "code",
      "source": [
        "import numpy as np\n",
        "\n",
        "# Создать массив из 15 случайных чисел\n",
        "array = np.random.randint(1, 100, 15)\n",
        "\n",
        "# Отсортировать массив по возрастанию\n",
        "array.sort()\n",
        "\n",
        "# Вывести отсортированный массив\n",
        "print(array)"
      ],
      "metadata": {
        "id": "lO7YwGgpg6lb"
      },
      "execution_count": null,
      "outputs": []
    },
    {
      "cell_type": "markdown",
      "source": [
        "12) Создать массив из чисел от 1 до 12 и преобразовать его в трехмерный массив размером 2x2x3."
      ],
      "metadata": {
        "id": "SEAp484Rg9S3"
      }
    },
    {
      "cell_type": "code",
      "source": [
        "import numpy as np\n",
        "\n",
        "# Создать массив из чисел от 1 до 12\n",
        "array = np.arange(1, 13)\n",
        "\n",
        "# Преобразовать массив в трехмерный массив размером 2x2x3\n",
        "array = array.reshape(2, 2, 3)\n",
        "\n",
        "# Вывести массив\n",
        "print(array)"
      ],
      "metadata": {
        "id": "dMCZ2VH_hAQK"
      },
      "execution_count": null,
      "outputs": []
    },
    {
      "cell_type": "markdown",
      "source": [
        "13) Перемножить два массива размером 2x3 и 3x2."
      ],
      "metadata": {
        "id": "RAshSFH3hFga"
      }
    },
    {
      "cell_type": "code",
      "source": [
        "import numpy as np\n",
        "\n",
        "# Создать два массива размером 2x3 и 3x2\n",
        "array1 = np.array([[1, 2, 3], [4, 5, 6]])\n",
        "array2 = np.array([[7, 8], [9, 10], [11, 12]])\n",
        "\n",
        "# Перемножить два массива\n",
        "result = np.dot(array1, array2)\n",
        "\n",
        "# Вывести результат\n",
        "print(result)"
      ],
      "metadata": {
        "id": "kMGoNtV1hH3r"
      },
      "execution_count": null,
      "outputs": []
    },
    {
      "cell_type": "markdown",
      "source": [
        "14) Транспонировать двумерный массив.\n"
      ],
      "metadata": {
        "id": "YRA0jNhPhLf2"
      }
    },
    {
      "cell_type": "code",
      "source": [
        "import numpy as np\n",
        "\n",
        "# Создать двумерный массив\n",
        "array = np.array([[1, 2, 3], [4, 5, 6]])\n",
        "\n",
        "# Транспонировать массив\n",
        "transposed_array = array.T\n",
        "\n",
        "# Вывести транспонированный массив\n",
        "print(transposed_array)"
      ],
      "metadata": {
        "id": "tPb03gpemb4V"
      },
      "execution_count": null,
      "outputs": []
    },
    {
      "cell_type": "markdown",
      "source": [
        "15) Найти скалярное произведение двух массивов."
      ],
      "metadata": {
        "id": "mgtyraESmeXx"
      }
    },
    {
      "cell_type": "code",
      "source": [
        "import numpy as np\n",
        "\n",
        "# Создать два массива\n",
        "array1 = np.array([1, 2, 3])\n",
        "array2 = np.array([4, 5, 6])\n",
        "\n",
        "# Найти скалярное произведение массивов\n",
        "dot_product = np.dot(array1, array2)\n",
        "\n",
        "# Вывести скалярное произведение\n",
        "print(dot_product)"
      ],
      "metadata": {
        "id": "KA8qGvg4mh_o"
      },
      "execution_count": null,
      "outputs": []
    },
    {
      "cell_type": "markdown",
      "source": [
        "16) Создать массив из чисел от 1 до 20 и заменить все четные числа на 0."
      ],
      "metadata": {
        "id": "CqzZ387Qmom1"
      }
    },
    {
      "cell_type": "code",
      "source": [
        "import numpy as np\n",
        "\n",
        "# Создать массив из чисел от 1 до 20\n",
        "array = np.arange(1, 21)\n",
        "\n",
        "# Заменить все четные числа на 0\n",
        "array[array % 2 == 0] = 0\n",
        "\n",
        "# Вывести массив\n",
        "print(array)\n"
      ],
      "metadata": {
        "id": "9xA4fTsmmrIM"
      },
      "execution_count": null,
      "outputs": []
    },
    {
      "cell_type": "markdown",
      "source": [
        "17) Найти индексы ненулевых элементов массива."
      ],
      "metadata": {
        "id": "l1jHgl5NmwHd"
      }
    },
    {
      "cell_type": "code",
      "source": [
        "import numpy as np\n",
        "\n",
        "# Создать массив\n",
        "array = np.array([1, 2, 0, 4, 0, 6])\n",
        "\n",
        "# Найти индексы ненулевых элементов\n",
        "nonzero_indices = np.nonzero(array)\n",
        "\n",
        "# Вывести индексы\n",
        "print(nonzero_indices)"
      ],
      "metadata": {
        "id": "dKJNx4Tsm6lV"
      },
      "execution_count": null,
      "outputs": []
    },
    {
      "cell_type": "markdown",
      "source": [
        "18) Вычислить синус каждого элемента массива."
      ],
      "metadata": {
        "id": "7PY_az__nASZ"
      }
    },
    {
      "cell_type": "code",
      "source": [
        "import numpy as np\n",
        "\n",
        "# Создать массив\n",
        "array = np.array([0, np.pi/4, np.pi/2, 3*np.pi/4, np.pi])\n",
        "\n",
        "# Вычислить синус каждого элемента массива\n",
        "sine_values = np.sin(array)\n",
        "\n",
        "# Вывести синусы\n",
        "print(sine_values)"
      ],
      "metadata": {
        "id": "5LK7nf8Sm-tb"
      },
      "execution_count": null,
      "outputs": []
    },
    {
      "cell_type": "markdown",
      "source": [
        "19) Вычислить среднее значение по столбцам двумерного массива."
      ],
      "metadata": {
        "id": "Y_Xx99GenOUl"
      }
    },
    {
      "cell_type": "code",
      "source": [
        "import numpy as np\n",
        "\n",
        "# Создать двумерный массив\n",
        "array = np.array([[1, 2, 3], [4, 5, 6], [7, 8, 9]])\n",
        "\n",
        "# Вычислить среднее значение по столбцам\n",
        "column_means = np.mean(array, axis=0)\n",
        "\n",
        "# Вывести средние значения\n",
        "print(column_means)"
      ],
      "metadata": {
        "id": "PNyXKDkjnXbg"
      },
      "execution_count": null,
      "outputs": []
    },
    {
      "cell_type": "markdown",
      "source": [
        "20) Найти сумму диагональных элементов квадратной матрицы."
      ],
      "metadata": {
        "id": "3lHOTbXYnaot"
      }
    },
    {
      "cell_type": "code",
      "source": [
        "def diagonal_sum(matrix):\n",
        "    \"\"\"Находит сумму диагональных элементов квадратной матрицы.\"\"\"\n",
        "\n",
        "    sum = 0\n",
        "\n",
        "    for i in range(len(matrix)):\n",
        "        for j in range(len(matrix)):\n",
        "            if i == j:\n",
        "                sum += matrix[i][j]\n",
        "\n",
        "    return sum"
      ],
      "metadata": {
        "id": "-VF30VIandDG"
      },
      "execution_count": null,
      "outputs": []
    }
  ],
  "metadata": {
    "colab": {
      "provenance": [],
      "toc_visible": true
    },
    "kernelspec": {
      "display_name": "Python 3",
      "language": "python",
      "name": "python3"
    },
    "language_info": {
      "codemirror_mode": {
        "name": "ipython",
        "version": 3
      },
      "file_extension": ".py",
      "mimetype": "text/x-python",
      "name": "python",
      "nbconvert_exporter": "python",
      "pygments_lexer": "ipython3",
      "version": "3.12.0"
    }
  },
  "nbformat": 4,
  "nbformat_minor": 0
}